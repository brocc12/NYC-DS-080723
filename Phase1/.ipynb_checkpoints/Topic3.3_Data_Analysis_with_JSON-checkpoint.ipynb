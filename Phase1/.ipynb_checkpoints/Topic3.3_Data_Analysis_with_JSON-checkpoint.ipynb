{
 "cells": [
  {
   "cell_type": "markdown",
   "metadata": {
    "slideshow": {
     "slide_type": "slide"
    }
   },
   "source": [
    "<div style=\"color:white;\n",
    "           display:fill;\n",
    "           border-radius:5px;\n",
    "           background-color:#5642C5;\n",
    "           font-size:200%;\n",
    "           font-family:Arial;letter-spacing:0.5px\">\n",
    "\n",
    "<p width = 20%, style=\"padding: 10px;\n",
    "              color:white;\">\n",
    "Data Analysis with JSON Files              \n",
    "</p>\n",
    "</div>\n",
    "\n",
    "Data Science Cohort Live NYC August 2023\n",
    "<p>Phase 1: Topic 3.3</p>\n",
    "<br>\n",
    "<br>\n",
    "\n",
    "<div align = \"right\">\n",
    "<img src=\"images/flatiron-school-logo.png\" align = \"right\" width=\"200\"/>\n",
    "</div>\n",
    "    \n",
    "    "
   ]
  },
  {
   "cell_type": "code",
   "execution_count": 1,
   "metadata": {
    "slideshow": {
     "slide_type": "slide"
    }
   },
   "outputs": [],
   "source": [
    "import json\n",
    "import pandas as pd\n",
    "import numpy as np\n",
    "from matplotlib import pyplot as plt\n",
    "from collections import defaultdict"
   ]
  },
  {
   "cell_type": "markdown",
   "metadata": {
    "heading_collapsed": true,
    "slideshow": {
     "slide_type": "slide"
    }
   },
   "source": [
    "# Learning Objectives"
   ]
  },
  {
   "cell_type": "markdown",
   "metadata": {
    "hidden": true,
    "slideshow": {
     "slide_type": "fragment"
    }
   },
   "source": [
    "- Load and explore a .json file in Python\n",
    "- Create a clean data structure from a .json file\n",
    "- Conduct descriptive analysis\n",
    "- Visualize the results"
   ]
  },
  {
   "cell_type": "markdown",
   "metadata": {
    "hidden": true,
    "slideshow": {
     "slide_type": "fragment"
    }
   },
   "source": [
    "Part of being a good data scientist is having the capacity to work with data in many different forms. Much data online is stored in JSON format. So let's see if we can conduct a descriptive analysis of data when it's given to us in that form!"
   ]
  },
  {
   "cell_type": "markdown",
   "metadata": {
    "slideshow": {
     "slide_type": "slide"
    }
   },
   "source": [
    "## What is JSON?\n",
    "\n",
    "JSON stands for Java Script Object Notation.\n",
    "\n",
    "    - **plain text** format. \n",
    "    - Object structure of data encoded in hierarchical syntax.\n",
    "\n",
    "JSON objects are one common way that data is transmitted over the web.  It is notable for being lightweight, which makes it [preferred](https://stackoverflow.com/questions/383692/what-is-json-and-why-would-i-use-it), generally, over XML."
   ]
  },
  {
   "cell_type": "markdown",
   "metadata": {
    "hidden": true,
    "slideshow": {
     "slide_type": "slide"
    }
   },
   "source": [
    "```json\n",
    "{\"menu\": {\n",
    "  \"id\": 12412,\n",
    "  \"istest\": true,\n",
    "  \"value\": \"File\",\n",
    "  \"popup\": {\n",
    "    \"menuitem\": [\n",
    "      {\"value\": \"New\", \"onclick\": \"CreateNewDoc()\"},\n",
    "      {\"value\": \"Open\", \"onclick\": \"OpenDoc()\"},\n",
    "      {\"value\": \"Close\", \"onclick\": \"CloseDoc()\"}\n",
    "    ]\n",
    "  }\n",
    "}}\n",
    "```"
   ]
  },
  {
   "cell_type": "markdown",
   "metadata": {
    "heading_collapsed": true,
    "hidden": true,
    "slideshow": {
     "slide_type": "slide"
    }
   },
   "source": [
    "## JSON Format"
   ]
  },
  {
   "cell_type": "markdown",
   "metadata": {
    "hidden": true,
    "slideshow": {
     "slide_type": "fragment"
    }
   },
   "source": [
    "JSON objects store data in a format similar to a nested Python dictionary. The JSON format makes it easy to store as a file, transfer between users, and use in other languages.\n",
    "\n",
    "For more information about the syntax of JSON files, check out this [link](https://www.json.org/json-en.html) to the JSON website."
   ]
  },
  {
   "cell_type": "markdown",
   "metadata": {
    "ExecuteTime": {
     "end_time": "2021-06-10T04:15:20.107976Z",
     "start_time": "2021-06-10T04:15:20.101838Z"
    },
    "hidden": true,
    "slideshow": {
     "slide_type": "slide"
    }
   },
   "source": [
    "Can have these types in it (all relatable to Python types):\n",
    "\n",
    "|JavaScript|JS Example               |Python Equivalent|Python Example           |\n",
    "|----------|-------------------------|-----------------|-------------------------|\n",
    "|Objects   |`{'key0':'v12','v':1}`   |Dictionaries     |`{'key0':'v12','v':1}`   |\n",
    "|Arrays    |`[1, 'one', 'two', 3, 5]`|Lists            |`[1, 'one', 'two', 3, 5]`|\n",
    "|Strings   |`'One'` or `\"Two\"`       |Strings          |`'One'` or `\"Two\"`       |\n",
    "|Numbers   |`1234.5` or `8675309`    |Numbers          |`1234.5` or `8675309`    |  \n",
    "|Boolean   |`true` or `false`        |Boolean          |`True` or `False`        |\n",
    "|Null Value|`null`                   |None Value       |`None`                   |"
   ]
  },
  {
   "cell_type": "markdown",
   "metadata": {
    "heading_collapsed": true,
    "slideshow": {
     "slide_type": "slide"
    }
   },
   "source": [
    "# Loading a JSON File"
   ]
  },
  {
   "cell_type": "markdown",
   "metadata": {
    "hidden": true,
    "slideshow": {
     "slide_type": "fragment"
    }
   },
   "source": [
    "For this example, we've created a `new_releases.json` file containing data on 20 newly released music albums. We got this from the Spotify API - we'll explain what this means later. \n",
    "\n",
    "Let's begin by importing the `json` package, opening a file with python's `open()` function, and then loading that data from the JSON file into a new `data` object."
   ]
  },
  {
   "cell_type": "markdown",
   "metadata": {
    "slideshow": {
     "slide_type": "slide"
    }
   },
   "source": [
    "#### json.load()\n",
    "\n",
    "To load data from a JSON file:\n",
    "1. `open` file with context manager. \n",
    "2. Pass the file object to the `json.load` function.\n",
    "3. Returns Python object representing contents of file.\n",
    "\n",
    "In the cell below, we open the campaign finance JSON file previewed above:"
   ]
  },
  {
   "cell_type": "code",
   "execution_count": 2,
   "metadata": {
    "hidden": true,
    "slideshow": {
     "slide_type": "fragment"
    }
   },
   "outputs": [],
   "source": [
    "with open('data/new_releases.json') as f:\n",
    "    data = json.load(f)"
   ]
  },
  {
   "cell_type": "markdown",
   "metadata": {
    "hidden": true,
    "slideshow": {
     "slide_type": "fragment"
    }
   },
   "source": [
    "The Spotify API returned the data in the form of JSON object, which the `json` module transforms into a Python object."
   ]
  },
  {
   "cell_type": "markdown",
   "metadata": {
    "cell_style": "center",
    "heading_collapsed": true,
    "hidden": true,
    "slideshow": {
     "slide_type": "slide"
    }
   },
   "source": [
    "## Exploring JSON Schemas  "
   ]
  },
  {
   "cell_type": "markdown",
   "metadata": {
    "hidden": true,
    "slideshow": {
     "slide_type": "fragment"
    }
   },
   "source": [
    "Recall that JSON files have a nested structure. The deepest levels of our object will contain individual values: numbers, booleans or strings. These in turn will be stored in the equivalents of Python lists and dictionaries, usually with many levels of nesting. \n",
    "\n",
    "If you try to look at a raw JSON file, you will likely have a hard time understanding the structure. To more easily make sense of it, we will proceed through each level methodically."
   ]
  },
  {
   "cell_type": "code",
   "execution_count": null,
   "metadata": {
    "hidden": true,
    "slideshow": {
     "slide_type": "slide"
    }
   },
   "outputs": [],
   "source": [
    "## This will look messy\n",
    "print(data)"
   ]
  },
  {
   "cell_type": "code",
   "execution_count": 3,
   "metadata": {
    "hidden": true,
    "slideshow": {
     "slide_type": "slide"
    }
   },
   "outputs": [
    {
     "name": "stdout",
     "output_type": "stream",
     "text": [
      "{\n",
      "    \"albums\": {\n",
      "        \"href\": \"https://api.spotify.com/v1/browse/new-releases?offset=0&limit=20\",\n",
      "        \"items\": [\n",
      "            {\n",
      "                \"album_type\": \"album\",\n",
      "                \"artists\": [\n",
      "                    {\n",
      "                        \"external_urls\": {\n",
      "                            \"spotify\": \"https://open.spotify.com/artist/1RyvyyTE3xzB2ZywiAwp0i\"\n",
      "                        },\n",
      "                        \"href\": \"https://api.spotify.com/v1/artists/1RyvyyTE3xzB2ZywiAwp0i\",\n",
      "                        \"id\": \"1RyvyyTE3xzB2ZywiAwp0i\",\n",
      "                        \"name\": \"Future\",\n",
      "                        \"type\": \"artist\",\n",
      "                        \"uri\": \"spotify:artist:1RyvyyTE3xzB2ZywiAwp0i\"\n",
      "                    }\n",
      "                ],\n",
      "                \"available_markets\": [\n",
      "                    \"AD\",\n",
      "                    \"AE\",\n",
      "                    \"AR\",\n",
      "                    \"AT\",\n",
      "                    \"AU\",\n",
      "                    \"BE\",\n",
      "                    \"BG\",\n",
      "                    \"BH\",\n",
      "                    \"BO\",\n",
      "                    \"BR\",\n",
      "                    \"CA\",\n",
      "                    \"CH\",\n",
      "                    \"CL\",\n",
      "                    \"CO\",\n",
      "                    \"CR\",\n",
      "                    \"CY\",\n",
      "                    \"CZ\",\n",
      "                    \"DE\",\n",
      "                    \"DK\",\n",
      "                    \"DO\",\n",
      "                    \"DZ\",\n",
      "                    \"EC\",\n",
      "                    \"EE\",\n",
      "                    \"EG\",\n",
      "                    \"ES\",\n",
      "                    \"FI\",\n",
      "                    \"FR\",\n",
      "                    \"GB\",\n",
      "                    \"GR\",\n",
      "                    \"GT\",\n",
      "                    \"HK\",\n",
      "                    \"HN\",\n",
      "                    \"HU\",\n",
      "                    \"ID\",\n",
      "                    \"IE\",\n",
      "                    \"IL\",\n",
      "                    \"IN\",\n",
      "                    \"IS\",\n",
      "                    \"IT\",\n",
      "                    \"JO\",\n",
      "                    \"JP\",\n",
      "                    \"KW\",\n",
      "                    \"LB\",\n",
      "                    \"LI\",\n",
      "                    \"LT\",\n",
      "                    \"LU\",\n",
      "                    \"LV\",\n",
      "                    \"MA\",\n",
      "                    \"MC\",\n",
      "                    \"MT\",\n",
      "                    \"MX\",\n",
      "                    \"MY\",\n",
      "                    \"NI\",\n",
      "                    \"NL\",\n",
      "                    \"NO\",\n",
      "                    \"NZ\",\n",
      "                    \"OM\",\n",
      "                    \"PA\",\n",
      "                    \"PE\",\n",
      "                    \"PH\",\n",
      "                    \"PL\",\n",
      "                    \"PS\",\n",
      "                    \"PT\",\n",
      "                    \"PY\",\n",
      "                    \"QA\",\n",
      "                    \"RO\",\n",
      "                    \"SA\",\n",
      "                    \"SE\",\n",
      "                    \"SG\",\n",
      "                    \"SK\",\n",
      "                    \"SV\",\n",
      "                    \"TH\",\n",
      "                    \"TN\",\n",
      "                    \"TR\",\n",
      "                    \"TW\",\n",
      "                    \"US\",\n",
      "                    \"UY\",\n",
      "                    \"VN\",\n",
      "                    \"ZA\"\n",
      "                ],\n",
      "                \"external_urls\": {\n",
      "                    \"spotify\": \"https://open.spotify.com/album/4bNPOFOzxGhF5jhfIK6lit\"\n",
      "                },\n",
      "                \"href\": \"https://api.spotify.com/v1/albums/4bNPOFOzxGhF5jhfIK6lit\",\n",
      "                \"id\": \"4bNPOFOzxGhF5jhfIK6lit\",\n",
      "                \"images\": [\n",
      "                    {\n",
      "                        \"height\": 640,\n",
      "                        \"url\": \"https://i.scdn.co/image/ab67616d0000b273935d8d5369bc55e74a39303e\",\n",
      "                        \"width\": 640\n",
      "                    },\n",
      "                    {\n",
      "                        \"height\": 300,\n",
      "                        \"url\": \"https://i.scdn.co/image/ab67616d00001e02935d8d5369bc55e74a39303e\",\n",
      "                        \"width\": 300\n",
      "                    },\n",
      "                    {\n",
      "                        \"height\": 64,\n",
      "                        \"url\": \"https://i.scdn.co/image/ab67616d00004851935d8d5369bc55e74a39303e\",\n",
      "                        \"width\": 64\n",
      "                    }\n",
      "                ],\n",
      "                \"name\": \"High Off Life\",\n",
      "                \"release_date\": \"2020-05-15\",\n",
      "                \"release_date_precision\": \"day\",\n",
      "                \"total_tracks\": 21,\n",
      "                \"type\": \"album\",\n",
      "                \"uri\": \"spotify:album:4bNPOFOzxGhF5jhfIK6lit\"\n",
      "            },\n",
      "            {\n",
      "                \"album_type\": \"single\",\n",
      "                \"artists\": [\n",
      "                    {\n",
      "                        \"external_urls\": {\n",
      "                            \"spotify\": \"https://open.spotify.com/artist/23fqKkggKUBHNkbKtXEls4\"\n",
      "                        },\n",
      "                        \"href\": \"https://api.spotify.com/v1/artists/23fqKkggKUBHNkbKtXEls4\",\n",
      "                        \"id\": \"23fqKkggKUBHNkbKtXEls4\",\n",
      "                        \"name\": \"Kygo\",\n",
      "                        \"type\": \"artist\",\n",
      "                        \"uri\": \"spotify:artist:23fqKkggKUBHNkbKtXEls4\"\n",
      "                    },\n",
      "                    {\n",
      "                        \"external_urls\": {\n",
      "                            \"spotify\": \"https://open.spotify.com/artist/5Pwc4xIPtQLFEnJriah9YJ\"\n",
      "                        },\n",
      "                        \"href\": \"https://api.spotify.com/v1/artists/5Pwc4xIPtQLFEnJriah9YJ\",\n",
      "                        \"id\": \"5Pwc4xIPtQLFEnJriah9YJ\",\n",
      "                        \"name\": \"OneRepublic\",\n",
      "                        \"type\": \"artist\",\n",
      "                        \"uri\": \"spotify:artist:5Pwc4xIPtQLFEnJriah9YJ\"\n",
      "                    }\n",
      "                ],\n",
      "                \"available_markets\": [\n",
      "                    \"AD\",\n",
      "                    \"AE\",\n",
      "                    \"AR\",\n",
      "                    \"AT\",\n",
      "                    \"AU\",\n",
      "                    \"BE\",\n",
      "                    \"BG\",\n",
      "                    \"BH\",\n",
      "                    \"BO\",\n",
      "                    \"BR\",\n",
      "                    \"CA\",\n",
      "                    \"CH\",\n",
      "                    \"CL\",\n",
      "                    \"CO\",\n",
      "                    \"CR\",\n",
      "                    \"CY\",\n",
      "                    \"CZ\",\n",
      "                    \"DE\",\n",
      "                    \"DK\",\n",
      "                    \"DO\",\n",
      "                    \"DZ\",\n",
      "                    \"EC\",\n",
      "                    \"EE\",\n",
      "                    \"EG\",\n",
      "                    \"ES\",\n",
      "                    \"FI\",\n",
      "                    \"FR\",\n",
      "                    \"GB\",\n",
      "                    \"GR\",\n",
      "                    \"GT\",\n",
      "                    \"HK\",\n",
      "                    \"HN\",\n",
      "                    \"HU\",\n",
      "                    \"ID\",\n",
      "                    \"IE\",\n",
      "                    \"IL\",\n",
      "                    \"IN\",\n",
      "                    \"IS\",\n",
      "                    \"IT\",\n",
      "                    \"JO\",\n",
      "                    \"JP\",\n",
      "                    \"KW\",\n",
      "                    \"LB\",\n",
      "                    \"LI\",\n",
      "                    \"LT\",\n",
      "                    \"LU\",\n",
      "                    \"LV\",\n",
      "                    \"MA\",\n",
      "                    \"MC\",\n",
      "                    \"MT\",\n",
      "                    \"MX\",\n",
      "                    \"MY\",\n",
      "                    \"NI\",\n",
      "                    \"NL\",\n",
      "                    \"NO\",\n",
      "                    \"NZ\",\n",
      "                    \"OM\",\n",
      "                    \"PA\",\n",
      "                    \"PE\",\n",
      "                    \"PH\",\n",
      "                    \"PL\",\n",
      "                    \"PS\",\n",
      "                    \"PT\",\n",
      "                    \"PY\",\n",
      "                    \"QA\",\n",
      "                    \"RO\",\n",
      "                    \"SA\",\n",
      "                    \"SE\",\n",
      "                    \"SG\",\n",
      "                    \"SK\",\n",
      "                    \"SV\",\n",
      "                    \"TH\",\n",
      "                    \"TN\",\n",
      "                    \"TR\",\n",
      "                    \"TW\",\n",
      "                    \"US\",\n",
      "                    \"UY\",\n",
      "                    \"VN\",\n",
      "                    \"ZA\"\n",
      "                ],\n",
      "                \"external_urls\": {\n",
      "                    \"spotify\": \"https://open.spotify.com/album/3LhriqAiHJYw7rxvtlkvQc\"\n",
      "                },\n",
      "                \"href\": \"https://api.spotify.com/v1/albums/3LhriqAiHJYw7rxvtlkvQc\",\n",
      "                \"id\": \"3LhriqAiHJYw7rxvtlkvQc\",\n",
      "                \"images\": [\n",
      "                    {\n",
      "                        \"height\": 640,\n",
      "                        \"url\": \"https://i.scdn.co/image/ab67616d0000b273479856767f92aab97c956704\",\n",
      "                        \"width\": 640\n",
      "                    },\n",
      "                    {\n",
      "                        \"height\": 300,\n",
      "                        \"url\": \"https://i.scdn.co/image/ab67616d00001e02479856767f92aab97c956704\",\n",
      "                        \"width\": 300\n",
      "                    },\n",
      "                    {\n",
      "                        \"height\": 64,\n",
      "                        \"url\": \"https://i.scdn.co/image/ab67616d00004851479856767f92aab97c956704\",\n",
      "                        \"width\": 64\n",
      "                    }\n",
      "                ],\n",
      "                \"name\": \"Lose Somebody\",\n",
      "                \"release_date\": \"2020-05-15\",\n",
      "                \"release_date_precision\": \"day\",\n",
      "                \"total_tracks\": 1,\n",
      "                \"type\": \"album\",\n",
      "                \"uri\": \"spotify:album:3LhriqAiHJYw7rxvtlkvQc\"\n",
      "            },\n",
      "            {\n",
      "                \"album_type\": \"album\",\n",
      "                \"artists\": [\n",
      "                    {\n",
      "                        \"external_urls\": {\n",
      "                            \"spotify\": \"https://open.spotify.com/artist/0LyfQWJT6nXafLPZqxe9Of\"\n",
      "                        },\n",
      "                        \"href\": \"https://api.spotify.com/v1/artists/0LyfQWJT6nXafLPZqxe9Of\",\n",
      "                        \"id\": \"0LyfQWJT6nXafLPZqxe9Of\",\n",
      "                        \"name\": \"Various Artists\",\n",
      "                        \"type\": \"artist\",\n",
      "                        \"uri\": \"spotify:artist:0LyfQWJT6nXafLPZqxe9Of\"\n",
      "                    }\n",
      "                ],\n",
      "                \"available_markets\": [\n",
      "                    \"AD\",\n",
      "                    \"AE\",\n",
      "                    \"AR\",\n",
      "                    \"AT\",\n",
      "                    \"AU\",\n",
      "                    \"BE\",\n",
      "                    \"BG\",\n",
      "                    \"BH\",\n",
      "                    \"BO\",\n",
      "                    \"BR\",\n",
      "                    \"CA\",\n",
      "                    \"CH\",\n",
      "                    \"CL\",\n",
      "                    \"CO\",\n",
      "                    \"CR\",\n",
      "                    \"CY\",\n",
      "                    \"CZ\",\n",
      "                    \"DE\",\n",
      "                    \"DK\",\n",
      "                    \"DO\",\n",
      "                    \"DZ\",\n",
      "                    \"EC\",\n",
      "                    \"EE\",\n",
      "                    \"EG\",\n",
      "                    \"ES\",\n",
      "                    \"FI\",\n",
      "                    \"FR\",\n",
      "                    \"GB\",\n",
      "                    \"GR\",\n",
      "                    \"GT\",\n",
      "                    \"HK\",\n",
      "                    \"HN\",\n",
      "                    \"HU\",\n",
      "                    \"ID\",\n",
      "                    \"IE\",\n",
      "                    \"IL\",\n",
      "                    \"IN\",\n",
      "                    \"IS\",\n",
      "                    \"IT\",\n",
      "                    \"JO\",\n",
      "                    \"JP\",\n",
      "                    \"KW\",\n",
      "                    \"LB\",\n",
      "                    \"LI\",\n",
      "                    \"LT\",\n",
      "                    \"LU\",\n",
      "                    \"LV\",\n",
      "                    \"MA\",\n",
      "                    \"MC\",\n",
      "                    \"MT\",\n",
      "                    \"MX\",\n",
      "                    \"MY\",\n",
      "                    \"NI\",\n",
      "                    \"NL\",\n",
      "                    \"NO\",\n",
      "                    \"NZ\",\n",
      "                    \"OM\",\n",
      "                    \"PA\",\n",
      "                    \"PE\",\n",
      "                    \"PH\",\n",
      "                    \"PL\",\n",
      "                    \"PS\",\n",
      "                    \"PT\",\n",
      "                    \"PY\",\n",
      "                    \"QA\",\n",
      "                    \"RO\",\n",
      "                    \"SA\",\n",
      "                    \"SE\",\n",
      "                    \"SG\",\n",
      "                    \"SK\",\n",
      "                    \"SV\",\n",
      "                    \"TH\",\n",
      "                    \"TN\",\n",
      "                    \"TR\",\n",
      "                    \"TW\",\n",
      "                    \"US\",\n",
      "                    \"UY\",\n",
      "                    \"VN\",\n",
      "                    \"ZA\"\n",
      "                ],\n",
      "                \"external_urls\": {\n",
      "                    \"spotify\": \"https://open.spotify.com/album/2Zg5xZo3WwIoAZys8OcUpG\"\n",
      "                },\n",
      "                \"href\": \"https://api.spotify.com/v1/albums/2Zg5xZo3WwIoAZys8OcUpG\",\n",
      "                \"id\": \"2Zg5xZo3WwIoAZys8OcUpG\",\n",
      "                \"images\": [\n",
      "                    {\n",
      "                        \"height\": 640,\n",
      "                        \"url\": \"https://i.scdn.co/image/ab67616d0000b2732e819e33b9703a8b3fc85a35\",\n",
      "                        \"width\": 640\n",
      "                    },\n",
      "                    {\n",
      "                        \"height\": 300,\n",
      "                        \"url\": \"https://i.scdn.co/image/ab67616d00001e022e819e33b9703a8b3fc85a35\",\n",
      "                        \"width\": 300\n",
      "                    },\n",
      "                    {\n",
      "                        \"height\": 64,\n",
      "                        \"url\": \"https://i.scdn.co/image/ab67616d000048512e819e33b9703a8b3fc85a35\",\n",
      "                        \"width\": 64\n",
      "                    }\n",
      "                ],\n",
      "                \"name\": \"SCOOB! The Album\",\n",
      "                \"release_date\": \"2020-05-15\",\n",
      "                \"release_date_precision\": \"day\",\n",
      "                \"total_tracks\": 12,\n",
      "                \"type\": \"album\",\n",
      "                \"uri\": \"spotify:album:2Zg5xZo3WwIoAZys8OcUpG\"\n",
      "            },\n",
      "            {\n",
      "                \"album_type\": \"single\",\n",
      "                \"artists\": [\n",
      "                    {\n",
      "                        \"external_urls\": {\n",
      "                            \"spotify\": \"https://open.spotify.com/artist/6jJ0s89eD6GaHleKKya26X\"\n",
      "                        },\n",
      "                        \"href\": \"https://api.spotify.com/v1/artists/6jJ0s89eD6GaHleKKya26X\",\n",
      "                        \"id\": \"6jJ0s89eD6GaHleKKya26X\",\n",
      "                        \"name\": \"Katy Perry\",\n",
      "                        \"type\": \"artist\",\n",
      "                        \"uri\": \"spotify:artist:6jJ0s89eD6GaHleKKya26X\"\n",
      "                    }\n",
      "                ],\n",
      "                \"available_markets\": [\n",
      "                    \"AD\",\n",
      "                    \"AE\",\n",
      "                    \"AR\",\n",
      "                    \"AT\",\n",
      "                    \"AU\",\n",
      "                    \"BE\",\n",
      "                    \"BG\",\n",
      "                    \"BH\",\n",
      "                    \"BO\",\n",
      "                    \"BR\",\n",
      "                    \"CA\",\n",
      "                    \"CH\",\n",
      "                    \"CL\",\n",
      "                    \"CO\",\n",
      "                    \"CR\",\n",
      "                    \"CY\",\n",
      "                    \"CZ\",\n",
      "                    \"DE\",\n",
      "                    \"DK\",\n",
      "                    \"DO\",\n",
      "                    \"DZ\",\n",
      "                    \"EC\",\n",
      "                    \"EE\",\n",
      "                    \"EG\",\n",
      "                    \"ES\",\n",
      "                    \"FI\",\n",
      "                    \"FR\",\n",
      "                    \"GB\",\n",
      "                    \"GR\",\n",
      "                    \"GT\",\n",
      "                    \"HK\",\n",
      "                    \"HN\",\n",
      "                    \"HU\",\n",
      "                    \"ID\",\n",
      "                    \"IE\",\n",
      "                    \"IL\",\n",
      "                    \"IN\",\n",
      "                    \"IS\",\n",
      "                    \"IT\",\n",
      "                    \"JO\",\n",
      "                    \"JP\",\n",
      "                    \"KW\",\n",
      "                    \"LB\",\n",
      "                    \"LI\",\n",
      "                    \"LT\",\n",
      "                    \"LU\",\n",
      "                    \"LV\",\n",
      "                    \"MA\",\n",
      "                    \"MC\",\n",
      "                    \"MT\",\n",
      "                    \"MX\",\n",
      "                    \"MY\",\n",
      "                    \"NI\",\n",
      "                    \"NL\",\n",
      "                    \"NO\",\n",
      "                    \"NZ\",\n",
      "                    \"OM\",\n",
      "                    \"PA\",\n",
      "                    \"PE\",\n",
      "                    \"PH\",\n",
      "                    \"PL\",\n",
      "                    \"PS\",\n",
      "                    \"PT\",\n",
      "                    \"PY\",\n",
      "                    \"QA\",\n",
      "                    \"RO\",\n",
      "                    \"SA\",\n",
      "                    \"SE\",\n",
      "                    \"SG\",\n",
      "                    \"SK\",\n",
      "                    \"SV\",\n",
      "                    \"TH\",\n",
      "                    \"TN\",\n",
      "                    \"TR\",\n",
      "                    \"TW\",\n",
      "                    \"US\",\n",
      "                    \"UY\",\n",
      "                    \"VN\",\n",
      "                    \"ZA\"\n",
      "                ],\n",
      "                \"external_urls\": {\n",
      "                    \"spotify\": \"https://open.spotify.com/album/2m5J1DUH7hJpPSOromIqpN\"\n",
      "                },\n",
      "                \"href\": \"https://api.spotify.com/v1/albums/2m5J1DUH7hJpPSOromIqpN\",\n",
      "                \"id\": \"2m5J1DUH7hJpPSOromIqpN\",\n",
      "                \"images\": [\n",
      "                    {\n",
      "                        \"height\": 640,\n",
      "                        \"url\": \"https://i.scdn.co/image/ab67616d0000b2738df6751bad8ab6b5c928dba3\",\n",
      "                        \"width\": 640\n",
      "                    },\n",
      "                    {\n",
      "                        \"height\": 300,\n",
      "                        \"url\": \"https://i.scdn.co/image/ab67616d00001e028df6751bad8ab6b5c928dba3\",\n",
      "                        \"width\": 300\n",
      "                    },\n",
      "                    {\n",
      "                        \"height\": 64,\n",
      "                        \"url\": \"https://i.scdn.co/image/ab67616d000048518df6751bad8ab6b5c928dba3\",\n",
      "                        \"width\": 64\n",
      "                    }\n",
      "                ],\n",
      "                \"name\": \"Daisies\",\n",
      "                \"release_date\": \"2020-05-15\",\n",
      "                \"release_date_precision\": \"day\",\n",
      "                \"total_tracks\": 1,\n",
      "                \"type\": \"album\",\n",
      "                \"uri\": \"spotify:album:2m5J1DUH7hJpPSOromIqpN\"\n",
      "            },\n",
      "            {\n",
      "                \"album_type\": \"album\",\n",
      "                \"artists\": [\n",
      "                    {\n",
      "                        \"external_urls\": {\n",
      "                            \"spotify\": \"https://open.spotify.com/artist/6AgTAQt8XS6jRWi4sX7w49\"\n",
      "                        },\n",
      "                        \"href\": \"https://api.spotify.com/v1/artists/6AgTAQt8XS6jRWi4sX7w49\",\n",
      "                        \"id\": \"6AgTAQt8XS6jRWi4sX7w49\",\n",
      "                        \"name\": \"Polo G\",\n",
      "                        \"type\": \"artist\",\n",
      "                        \"uri\": \"spotify:artist:6AgTAQt8XS6jRWi4sX7w49\"\n",
      "                    }\n",
      "                ],\n",
      "                \"available_markets\": [\n",
      "                    \"AD\",\n",
      "                    \"AE\",\n",
      "                    \"AR\",\n",
      "                    \"AT\",\n",
      "                    \"AU\",\n",
      "                    \"BE\",\n",
      "                    \"BG\",\n",
      "                    \"BH\",\n",
      "                    \"BO\",\n",
      "                    \"BR\",\n",
      "                    \"CA\",\n",
      "                    \"CH\",\n",
      "                    \"CL\",\n",
      "                    \"CO\",\n",
      "                    \"CR\",\n",
      "                    \"CY\",\n",
      "                    \"CZ\",\n",
      "                    \"DE\",\n",
      "                    \"DK\",\n",
      "                    \"DO\",\n",
      "                    \"DZ\",\n",
      "                    \"EC\",\n",
      "                    \"EE\",\n",
      "                    \"EG\",\n",
      "                    \"ES\",\n",
      "                    \"FI\",\n",
      "                    \"FR\",\n",
      "                    \"GB\",\n",
      "                    \"GR\",\n",
      "                    \"GT\",\n",
      "                    \"HK\",\n",
      "                    \"HN\",\n",
      "                    \"HU\",\n",
      "                    \"ID\",\n",
      "                    \"IE\",\n",
      "                    \"IL\",\n",
      "                    \"IN\",\n",
      "                    \"IS\",\n",
      "                    \"IT\",\n",
      "                    \"JO\",\n",
      "                    \"JP\",\n",
      "                    \"KW\",\n",
      "                    \"LB\",\n",
      "                    \"LI\",\n",
      "                    \"LT\",\n",
      "                    \"LU\",\n",
      "                    \"LV\",\n",
      "                    \"MA\",\n",
      "                    \"MC\",\n",
      "                    \"MT\",\n",
      "                    \"MX\",\n",
      "                    \"MY\",\n",
      "                    \"NI\",\n",
      "                    \"NL\",\n",
      "                    \"NO\",\n",
      "                    \"NZ\",\n",
      "                    \"OM\",\n",
      "                    \"PA\",\n",
      "                    \"PE\",\n",
      "                    \"PH\",\n",
      "                    \"PL\",\n",
      "                    \"PS\",\n",
      "                    \"PT\",\n",
      "                    \"PY\",\n",
      "                    \"QA\",\n",
      "                    \"RO\",\n",
      "                    \"SA\",\n",
      "                    \"SE\",\n",
      "                    \"SG\",\n",
      "                    \"SK\",\n",
      "                    \"SV\",\n",
      "                    \"TH\",\n",
      "                    \"TN\",\n",
      "                    \"TR\",\n",
      "                    \"TW\",\n",
      "                    \"US\",\n",
      "                    \"UY\",\n",
      "                    \"VN\",\n",
      "                    \"ZA\"\n",
      "                ],\n",
      "                \"external_urls\": {\n",
      "                    \"spotify\": \"https://open.spotify.com/album/39xhYyNNDatQtgKw2KdXMz\"\n",
      "                },\n",
      "                \"href\": \"https://api.spotify.com/v1/albums/39xhYyNNDatQtgKw2KdXMz\",\n",
      "                \"id\": \"39xhYyNNDatQtgKw2KdXMz\",\n",
      "                \"images\": [\n",
      "                    {\n",
      "                        \"height\": 640,\n",
      "                        \"url\": \"https://i.scdn.co/image/ab67616d0000b273339f780dfdbc38558ea0761d\",\n",
      "                        \"width\": 640\n",
      "                    },\n",
      "                    {\n",
      "                        \"height\": 300,\n",
      "                        \"url\": \"https://i.scdn.co/image/ab67616d00001e02339f780dfdbc38558ea0761d\",\n",
      "                        \"width\": 300\n",
      "                    },\n",
      "                    {\n",
      "                        \"height\": 64,\n",
      "                        \"url\": \"https://i.scdn.co/image/ab67616d00004851339f780dfdbc38558ea0761d\",\n",
      "                        \"width\": 64\n",
      "                    }\n",
      "                ],\n",
      "                \"name\": \"THE GOAT\",\n",
      "                \"release_date\": \"2020-05-15\",\n",
      "                \"release_date_precision\": \"day\",\n",
      "                \"total_tracks\": 16,\n",
      "                \"type\": \"album\",\n",
      "                \"uri\": \"spotify:album:39xhYyNNDatQtgKw2KdXMz\"\n",
      "            },\n",
      "            {\n",
      "                \"album_type\": \"single\",\n",
      "                \"artists\": [\n",
      "                    {\n",
      "                        \"external_urls\": {\n",
      "                            \"spotify\": \"https://open.spotify.com/artist/7gOdHgIoIKoe4i9Tta6qdD\"\n",
      "                        },\n",
      "                        \"href\": \"https://api.spotify.com/v1/artists/7gOdHgIoIKoe4i9Tta6qdD\",\n",
      "                        \"id\": \"7gOdHgIoIKoe4i9Tta6qdD\",\n",
      "                        \"name\": \"Jonas Brothers\",\n",
      "                        \"type\": \"artist\",\n",
      "                        \"uri\": \"spotify:artist:7gOdHgIoIKoe4i9Tta6qdD\"\n",
      "                    },\n",
      "                    {\n",
      "                        \"external_urls\": {\n",
      "                            \"spotify\": \"https://open.spotify.com/artist/790FomKkXshlbRYZFtlgla\"\n",
      "                        },\n",
      "                        \"href\": \"https://api.spotify.com/v1/artists/790FomKkXshlbRYZFtlgla\",\n",
      "                        \"id\": \"790FomKkXshlbRYZFtlgla\",\n",
      "                        \"name\": \"KAROL G\",\n",
      "                        \"type\": \"artist\",\n",
      "                        \"uri\": \"spotify:artist:790FomKkXshlbRYZFtlgla\"\n",
      "                    }\n",
      "                ],\n",
      "                \"available_markets\": [\n",
      "                    \"AD\",\n",
      "                    \"AE\",\n",
      "                    \"AR\",\n",
      "                    \"AT\",\n",
      "                    \"AU\",\n",
      "                    \"BE\",\n",
      "                    \"BG\",\n",
      "                    \"BH\",\n",
      "                    \"BO\",\n",
      "                    \"BR\",\n",
      "                    \"CA\",\n",
      "                    \"CH\",\n",
      "                    \"CL\",\n",
      "                    \"CO\",\n",
      "                    \"CR\",\n",
      "                    \"CY\",\n",
      "                    \"CZ\",\n",
      "                    \"DE\",\n",
      "                    \"DK\",\n",
      "                    \"DO\",\n",
      "                    \"DZ\",\n",
      "                    \"EC\",\n",
      "                    \"EE\",\n",
      "                    \"EG\",\n",
      "                    \"ES\",\n",
      "                    \"FI\",\n",
      "                    \"FR\",\n",
      "                    \"GB\",\n",
      "                    \"GR\",\n",
      "                    \"GT\",\n",
      "                    \"HK\",\n",
      "                    \"HN\",\n",
      "                    \"HU\",\n",
      "                    \"ID\",\n",
      "                    \"IE\",\n",
      "                    \"IL\",\n",
      "                    \"IN\",\n",
      "                    \"IS\",\n",
      "                    \"IT\",\n",
      "                    \"JO\",\n",
      "                    \"JP\",\n",
      "                    \"KW\",\n",
      "                    \"LB\",\n",
      "                    \"LI\",\n",
      "                    \"LT\",\n",
      "                    \"LU\",\n",
      "                    \"LV\",\n",
      "                    \"MA\",\n",
      "                    \"MC\",\n",
      "                    \"MT\",\n",
      "                    \"MX\",\n",
      "                    \"MY\",\n",
      "                    \"NI\",\n",
      "                    \"NL\",\n",
      "                    \"NO\",\n",
      "                    \"NZ\",\n",
      "                    \"OM\",\n",
      "                    \"PA\",\n",
      "                    \"PE\",\n",
      "                    \"PH\",\n",
      "                    \"PL\",\n",
      "                    \"PS\",\n",
      "                    \"PT\",\n",
      "                    \"PY\",\n",
      "                    \"QA\",\n",
      "                    \"RO\",\n",
      "                    \"SA\",\n",
      "                    \"SE\",\n",
      "                    \"SG\",\n",
      "                    \"SK\",\n",
      "                    \"SV\",\n",
      "                    \"TH\",\n",
      "                    \"TN\",\n",
      "                    \"TR\",\n",
      "                    \"TW\",\n",
      "                    \"US\",\n",
      "                    \"UY\",\n",
      "                    \"VN\",\n",
      "                    \"ZA\"\n",
      "                ],\n",
      "                \"external_urls\": {\n",
      "                    \"spotify\": \"https://open.spotify.com/album/0i96PtPJV65ddxsfMfo45F\"\n",
      "                },\n",
      "                \"href\": \"https://api.spotify.com/v1/albums/0i96PtPJV65ddxsfMfo45F\",\n",
      "                \"id\": \"0i96PtPJV65ddxsfMfo45F\",\n",
      "                \"images\": [\n",
      "                    {\n",
      "                        \"height\": 640,\n",
      "                        \"url\": \"https://i.scdn.co/image/ab67616d0000b2733b3cd45dfa6f779c01d63fdb\",\n",
      "                        \"width\": 640\n",
      "                    },\n",
      "                    {\n",
      "                        \"height\": 300,\n",
      "                        \"url\": \"https://i.scdn.co/image/ab67616d00001e023b3cd45dfa6f779c01d63fdb\",\n",
      "                        \"width\": 300\n",
      "                    },\n",
      "                    {\n",
      "                        \"height\": 64,\n",
      "                        \"url\": \"https://i.scdn.co/image/ab67616d000048513b3cd45dfa6f779c01d63fdb\",\n",
      "                        \"width\": 64\n",
      "                    }\n",
      "                ],\n",
      "                \"name\": \"XV\",\n",
      "                \"release_date\": \"2020-05-15\",\n",
      "                \"release_date_precision\": \"day\",\n",
      "                \"total_tracks\": 2,\n",
      "                \"type\": \"album\",\n",
      "                \"uri\": \"spotify:album:0i96PtPJV65ddxsfMfo45F\"\n",
      "            },\n",
      "            {\n",
      "                \"album_type\": \"album\",\n",
      "                \"artists\": [\n",
      "                    {\n",
      "                        \"external_urls\": {\n",
      "                            \"spotify\": \"https://open.spotify.com/artist/25uiPmTg16RbhZWAqwLBy5\"\n",
      "                        },\n",
      "                        \"href\": \"https://api.spotify.com/v1/artists/25uiPmTg16RbhZWAqwLBy5\",\n",
      "                        \"id\": \"25uiPmTg16RbhZWAqwLBy5\",\n",
      "                        \"name\": \"Charli XCX\",\n",
      "                        \"type\": \"artist\",\n",
      "                        \"uri\": \"spotify:artist:25uiPmTg16RbhZWAqwLBy5\"\n",
      "                    }\n",
      "                ],\n",
      "                \"available_markets\": [\n",
      "                    \"AD\",\n",
      "                    \"AE\",\n",
      "                    \"AR\",\n",
      "                    \"AT\",\n",
      "                    \"AU\",\n",
      "                    \"BE\",\n",
      "                    \"BG\",\n",
      "                    \"BH\",\n",
      "                    \"BO\",\n",
      "                    \"BR\",\n",
      "                    \"CA\",\n",
      "                    \"CH\",\n",
      "                    \"CL\",\n",
      "                    \"CO\",\n",
      "                    \"CR\",\n",
      "                    \"CY\",\n",
      "                    \"CZ\",\n",
      "                    \"DE\",\n",
      "                    \"DK\",\n",
      "                    \"DO\",\n",
      "                    \"DZ\",\n",
      "                    \"EC\",\n",
      "                    \"EE\",\n",
      "                    \"EG\",\n",
      "                    \"ES\",\n",
      "                    \"FI\",\n",
      "                    \"FR\",\n",
      "                    \"GB\",\n",
      "                    \"GR\",\n",
      "                    \"GT\",\n",
      "                    \"HK\",\n",
      "                    \"HN\",\n",
      "                    \"HU\",\n",
      "                    \"ID\",\n",
      "                    \"IE\",\n",
      "                    \"IL\",\n",
      "                    \"IN\",\n",
      "                    \"IS\",\n",
      "                    \"IT\",\n",
      "                    \"JO\",\n",
      "                    \"JP\",\n",
      "                    \"KW\",\n",
      "                    \"LB\",\n",
      "                    \"LI\",\n",
      "                    \"LT\",\n",
      "                    \"LU\",\n",
      "                    \"LV\",\n",
      "                    \"MA\",\n",
      "                    \"MC\",\n",
      "                    \"MT\",\n",
      "                    \"MX\",\n",
      "                    \"MY\",\n",
      "                    \"NI\",\n",
      "                    \"NL\",\n",
      "                    \"NO\",\n",
      "                    \"NZ\",\n",
      "                    \"OM\",\n",
      "                    \"PA\",\n",
      "                    \"PE\",\n",
      "                    \"PH\",\n",
      "                    \"PL\",\n",
      "                    \"PS\",\n",
      "                    \"PT\",\n",
      "                    \"PY\",\n",
      "                    \"QA\",\n",
      "                    \"RO\",\n",
      "                    \"SA\",\n",
      "                    \"SE\",\n",
      "                    \"SG\",\n",
      "                    \"SK\",\n",
      "                    \"SV\",\n",
      "                    \"TH\",\n",
      "                    \"TN\",\n",
      "                    \"TR\",\n",
      "                    \"TW\",\n",
      "                    \"US\",\n",
      "                    \"UY\",\n",
      "                    \"VN\",\n",
      "                    \"ZA\"\n",
      "                ],\n",
      "                \"external_urls\": {\n",
      "                    \"spotify\": \"https://open.spotify.com/album/3a9qH2VEsSiOZvMrjaS0Nu\"\n",
      "                },\n",
      "                \"href\": \"https://api.spotify.com/v1/albums/3a9qH2VEsSiOZvMrjaS0Nu\",\n",
      "                \"id\": \"3a9qH2VEsSiOZvMrjaS0Nu\",\n",
      "                \"images\": [\n",
      "                    {\n",
      "                        \"height\": 640,\n",
      "                        \"url\": \"https://i.scdn.co/image/ab67616d0000b273664e38c99d077cc52ab48914\",\n",
      "                        \"width\": 640\n",
      "                    },\n",
      "                    {\n",
      "                        \"height\": 300,\n",
      "                        \"url\": \"https://i.scdn.co/image/ab67616d00001e02664e38c99d077cc52ab48914\",\n",
      "                        \"width\": 300\n",
      "                    },\n",
      "                    {\n",
      "                        \"height\": 64,\n",
      "                        \"url\": \"https://i.scdn.co/image/ab67616d00004851664e38c99d077cc52ab48914\",\n",
      "                        \"width\": 64\n",
      "                    }\n",
      "                ],\n",
      "                \"name\": \"how i'm feeling now\",\n",
      "                \"release_date\": \"2020-05-15\",\n",
      "                \"release_date_precision\": \"day\",\n",
      "                \"total_tracks\": 11,\n",
      "                \"type\": \"album\",\n",
      "                \"uri\": \"spotify:album:3a9qH2VEsSiOZvMrjaS0Nu\"\n",
      "            },\n",
      "            {\n",
      "                \"album_type\": \"single\",\n",
      "                \"artists\": [\n",
      "                    {\n",
      "                        \"external_urls\": {\n",
      "                            \"spotify\": \"https://open.spotify.com/artist/2jku7tDXc6XoB6MO2hFuqg\"\n",
      "                        },\n",
      "                        \"href\": \"https://api.spotify.com/v1/artists/2jku7tDXc6XoB6MO2hFuqg\",\n",
      "                        \"id\": \"2jku7tDXc6XoB6MO2hFuqg\",\n",
      "                        \"name\": \"Tory Lanez\",\n",
      "                        \"type\": \"artist\",\n",
      "                        \"uri\": \"spotify:artist:2jku7tDXc6XoB6MO2hFuqg\"\n",
      "                    }\n",
      "                ],\n",
      "                \"available_markets\": [\n",
      "                    \"AD\",\n",
      "                    \"AE\",\n",
      "                    \"AR\",\n",
      "                    \"AT\",\n",
      "                    \"AU\",\n",
      "                    \"BE\",\n",
      "                    \"BG\",\n",
      "                    \"BH\",\n",
      "                    \"BO\",\n",
      "                    \"BR\",\n",
      "                    \"CH\",\n",
      "                    \"CL\",\n",
      "                    \"CO\",\n",
      "                    \"CR\",\n",
      "                    \"CY\",\n",
      "                    \"CZ\",\n",
      "                    \"DE\",\n",
      "                    \"DK\",\n",
      "                    \"DO\",\n",
      "                    \"DZ\",\n",
      "                    \"EC\",\n",
      "                    \"EE\",\n",
      "                    \"EG\",\n",
      "                    \"ES\",\n",
      "                    \"FI\",\n",
      "                    \"FR\",\n",
      "                    \"GB\",\n",
      "                    \"GR\",\n",
      "                    \"GT\",\n",
      "                    \"HK\",\n",
      "                    \"HN\",\n",
      "                    \"HU\",\n",
      "                    \"ID\",\n",
      "                    \"IE\",\n",
      "                    \"IL\",\n",
      "                    \"IN\",\n",
      "                    \"IS\",\n",
      "                    \"IT\",\n",
      "                    \"JO\",\n",
      "                    \"JP\",\n",
      "                    \"KW\",\n",
      "                    \"LB\",\n",
      "                    \"LI\",\n",
      "                    \"LT\",\n",
      "                    \"LU\",\n",
      "                    \"LV\",\n",
      "                    \"MA\",\n",
      "                    \"MC\",\n",
      "                    \"MT\",\n",
      "                    \"MX\",\n",
      "                    \"MY\",\n",
      "                    \"NI\",\n",
      "                    \"NL\",\n",
      "                    \"NO\",\n",
      "                    \"NZ\",\n",
      "                    \"OM\",\n",
      "                    \"PA\",\n",
      "                    \"PE\",\n",
      "                    \"PH\",\n",
      "                    \"PL\",\n",
      "                    \"PS\",\n",
      "                    \"PT\",\n",
      "                    \"PY\",\n",
      "                    \"QA\",\n",
      "                    \"RO\",\n",
      "                    \"SA\",\n",
      "                    \"SE\",\n",
      "                    \"SG\",\n",
      "                    \"SK\",\n",
      "                    \"SV\",\n",
      "                    \"TH\",\n",
      "                    \"TN\",\n",
      "                    \"TR\",\n",
      "                    \"TW\",\n",
      "                    \"US\",\n",
      "                    \"UY\",\n",
      "                    \"VN\",\n",
      "                    \"ZA\"\n",
      "                ],\n",
      "                \"external_urls\": {\n",
      "                    \"spotify\": \"https://open.spotify.com/album/3lalGt6k7JM3tIji1Xbgmk\"\n",
      "                },\n",
      "                \"href\": \"https://api.spotify.com/v1/albums/3lalGt6k7JM3tIji1Xbgmk\",\n",
      "                \"id\": \"3lalGt6k7JM3tIji1Xbgmk\",\n",
      "                \"images\": [\n",
      "                    {\n",
      "                        \"height\": 640,\n",
      "                        \"url\": \"https://i.scdn.co/image/ab67616d0000b273c2ebaf0c84eb77f358d958bc\",\n",
      "                        \"width\": 640\n",
      "                    },\n",
      "                    {\n",
      "                        \"height\": 300,\n",
      "                        \"url\": \"https://i.scdn.co/image/ab67616d00001e02c2ebaf0c84eb77f358d958bc\",\n",
      "                        \"width\": 300\n",
      "                    },\n",
      "                    {\n",
      "                        \"height\": 64,\n",
      "                        \"url\": \"https://i.scdn.co/image/ab67616d00004851c2ebaf0c84eb77f358d958bc\",\n",
      "                        \"width\": 64\n",
      "                    }\n",
      "                ],\n",
      "                \"name\": \"Temperature Rising\",\n",
      "                \"release_date\": \"2020-05-15\",\n",
      "                \"release_date_precision\": \"day\",\n",
      "                \"total_tracks\": 1,\n",
      "                \"type\": \"album\",\n",
      "                \"uri\": \"spotify:album:3lalGt6k7JM3tIji1Xbgmk\"\n",
      "            },\n",
      "            {\n",
      "                \"album_type\": \"album\",\n",
      "                \"artists\": [\n",
      "                    {\n",
      "                        \"external_urls\": {\n",
      "                            \"spotify\": \"https://open.spotify.com/artist/2ueoLVCXQ948OfhVvAy3Nn\"\n",
      "                        },\n",
      "                        \"href\": \"https://api.spotify.com/v1/artists/2ueoLVCXQ948OfhVvAy3Nn\",\n",
      "                        \"id\": \"2ueoLVCXQ948OfhVvAy3Nn\",\n",
      "                        \"name\": \"Perfume Genius\",\n",
      "                        \"type\": \"artist\",\n",
      "                        \"uri\": \"spotify:artist:2ueoLVCXQ948OfhVvAy3Nn\"\n",
      "                    }\n",
      "                ],\n",
      "                \"available_markets\": [\n",
      "                    \"AD\",\n",
      "                    \"AE\",\n",
      "                    \"AR\",\n",
      "                    \"AT\",\n",
      "                    \"AU\",\n",
      "                    \"BE\",\n",
      "                    \"BG\",\n",
      "                    \"BH\",\n",
      "                    \"BO\",\n",
      "                    \"BR\",\n",
      "                    \"CA\",\n",
      "                    \"CH\",\n",
      "                    \"CL\",\n",
      "                    \"CO\",\n",
      "                    \"CR\",\n",
      "                    \"CY\",\n",
      "                    \"CZ\",\n",
      "                    \"DE\",\n",
      "                    \"DK\",\n",
      "                    \"DO\",\n",
      "                    \"DZ\",\n",
      "                    \"EC\",\n",
      "                    \"EE\",\n",
      "                    \"EG\",\n",
      "                    \"ES\",\n",
      "                    \"FI\",\n",
      "                    \"FR\",\n",
      "                    \"GB\",\n",
      "                    \"GR\",\n",
      "                    \"GT\",\n",
      "                    \"HK\",\n",
      "                    \"HN\",\n",
      "                    \"HU\",\n",
      "                    \"ID\",\n",
      "                    \"IE\",\n",
      "                    \"IL\",\n",
      "                    \"IN\",\n",
      "                    \"IS\",\n",
      "                    \"IT\",\n",
      "                    \"JO\",\n",
      "                    \"JP\",\n",
      "                    \"KW\",\n",
      "                    \"LB\",\n",
      "                    \"LI\",\n",
      "                    \"LT\",\n",
      "                    \"LU\",\n",
      "                    \"LV\",\n",
      "                    \"MA\",\n",
      "                    \"MC\",\n",
      "                    \"MT\",\n",
      "                    \"MX\",\n",
      "                    \"MY\",\n",
      "                    \"NI\",\n",
      "                    \"NL\",\n",
      "                    \"NO\",\n",
      "                    \"NZ\",\n",
      "                    \"OM\",\n",
      "                    \"PA\",\n",
      "                    \"PE\",\n",
      "                    \"PH\",\n",
      "                    \"PL\",\n",
      "                    \"PS\",\n",
      "                    \"PT\",\n",
      "                    \"PY\",\n",
      "                    \"QA\",\n",
      "                    \"RO\",\n",
      "                    \"SA\",\n",
      "                    \"SE\",\n",
      "                    \"SG\",\n",
      "                    \"SK\",\n",
      "                    \"SV\",\n",
      "                    \"TH\",\n",
      "                    \"TN\",\n",
      "                    \"TR\",\n",
      "                    \"TW\",\n",
      "                    \"US\",\n",
      "                    \"UY\",\n",
      "                    \"VN\",\n",
      "                    \"ZA\"\n",
      "                ],\n",
      "                \"external_urls\": {\n",
      "                    \"spotify\": \"https://open.spotify.com/album/6daEdTBi1hyFQgmsnR7oRr\"\n",
      "                },\n",
      "                \"href\": \"https://api.spotify.com/v1/albums/6daEdTBi1hyFQgmsnR7oRr\",\n",
      "                \"id\": \"6daEdTBi1hyFQgmsnR7oRr\",\n",
      "                \"images\": [\n",
      "                    {\n",
      "                        \"height\": 640,\n",
      "                        \"url\": \"https://i.scdn.co/image/ab67616d0000b2739af34850f5125ef195d6101a\",\n",
      "                        \"width\": 640\n",
      "                    },\n",
      "                    {\n",
      "                        \"height\": 300,\n",
      "                        \"url\": \"https://i.scdn.co/image/ab67616d00001e029af34850f5125ef195d6101a\",\n",
      "                        \"width\": 300\n",
      "                    },\n",
      "                    {\n",
      "                        \"height\": 64,\n",
      "                        \"url\": \"https://i.scdn.co/image/ab67616d000048519af34850f5125ef195d6101a\",\n",
      "                        \"width\": 64\n",
      "                    }\n",
      "                ],\n",
      "                \"name\": \"Set My Heart On Fire Immediately\",\n",
      "                \"release_date\": \"2020-05-15\",\n",
      "                \"release_date_precision\": \"day\",\n",
      "                \"total_tracks\": 13,\n",
      "                \"type\": \"album\",\n",
      "                \"uri\": \"spotify:album:6daEdTBi1hyFQgmsnR7oRr\"\n",
      "            },\n",
      "            {\n",
      "                \"album_type\": \"album\",\n",
      "                \"artists\": [\n",
      "                    {\n",
      "                        \"external_urls\": {\n",
      "                            \"spotify\": \"https://open.spotify.com/artist/7rkW85dBwwrJtlHRDkJDAC\"\n",
      "                        },\n",
      "                        \"href\": \"https://api.spotify.com/v1/artists/7rkW85dBwwrJtlHRDkJDAC\",\n",
      "                        \"id\": \"7rkW85dBwwrJtlHRDkJDAC\",\n",
      "                        \"name\": \"NAV\",\n",
      "                        \"type\": \"artist\",\n",
      "                        \"uri\": \"spotify:artist:7rkW85dBwwrJtlHRDkJDAC\"\n",
      "                    }\n",
      "                ],\n",
      "                \"available_markets\": [\n",
      "                    \"AD\",\n",
      "                    \"AE\",\n",
      "                    \"AR\",\n",
      "                    \"AT\",\n",
      "                    \"AU\",\n",
      "                    \"BE\",\n",
      "                    \"BG\",\n",
      "                    \"BH\",\n",
      "                    \"BO\",\n",
      "                    \"BR\",\n",
      "                    \"CA\",\n",
      "                    \"CH\",\n",
      "                    \"CL\",\n",
      "                    \"CO\",\n",
      "                    \"CR\",\n",
      "                    \"CY\",\n",
      "                    \"CZ\",\n",
      "                    \"DE\",\n",
      "                    \"DK\",\n",
      "                    \"DO\",\n",
      "                    \"DZ\",\n",
      "                    \"EC\",\n",
      "                    \"EE\",\n",
      "                    \"EG\",\n",
      "                    \"ES\",\n",
      "                    \"FI\",\n",
      "                    \"FR\",\n",
      "                    \"GB\",\n",
      "                    \"GR\",\n",
      "                    \"GT\",\n",
      "                    \"HK\",\n",
      "                    \"HN\",\n",
      "                    \"HU\",\n",
      "                    \"ID\",\n",
      "                    \"IE\",\n",
      "                    \"IL\",\n",
      "                    \"IN\",\n",
      "                    \"IS\",\n",
      "                    \"IT\",\n",
      "                    \"JO\",\n",
      "                    \"JP\",\n",
      "                    \"KW\",\n",
      "                    \"LB\",\n",
      "                    \"LI\",\n",
      "                    \"LT\",\n",
      "                    \"LU\",\n",
      "                    \"LV\",\n",
      "                    \"MA\",\n",
      "                    \"MC\",\n",
      "                    \"MT\",\n",
      "                    \"MX\",\n",
      "                    \"MY\",\n",
      "                    \"NI\",\n",
      "                    \"NL\",\n",
      "                    \"NO\",\n",
      "                    \"NZ\",\n",
      "                    \"OM\",\n",
      "                    \"PA\",\n",
      "                    \"PE\",\n",
      "                    \"PH\",\n",
      "                    \"PL\",\n",
      "                    \"PS\",\n",
      "                    \"PT\",\n",
      "                    \"PY\",\n",
      "                    \"QA\",\n",
      "                    \"RO\",\n",
      "                    \"SA\",\n",
      "                    \"SE\",\n",
      "                    \"SG\",\n",
      "                    \"SK\",\n",
      "                    \"SV\",\n",
      "                    \"TH\",\n",
      "                    \"TN\",\n",
      "                    \"TR\",\n",
      "                    \"TW\",\n",
      "                    \"US\",\n",
      "                    \"UY\",\n",
      "                    \"VN\",\n",
      "                    \"ZA\"\n",
      "                ],\n",
      "                \"external_urls\": {\n",
      "                    \"spotify\": \"https://open.spotify.com/album/2kx4l1OQNT2JXLld9HJDIh\"\n",
      "                },\n",
      "                \"href\": \"https://api.spotify.com/v1/albums/2kx4l1OQNT2JXLld9HJDIh\",\n",
      "                \"id\": \"2kx4l1OQNT2JXLld9HJDIh\",\n",
      "                \"images\": [\n",
      "                    {\n",
      "                        \"height\": 640,\n",
      "                        \"url\": \"https://i.scdn.co/image/ab67616d0000b273b9c89bb14d58ea3150bd435d\",\n",
      "                        \"width\": 640\n",
      "                    },\n",
      "                    {\n",
      "                        \"height\": 300,\n",
      "                        \"url\": \"https://i.scdn.co/image/ab67616d00001e02b9c89bb14d58ea3150bd435d\",\n",
      "                        \"width\": 300\n",
      "                    },\n",
      "                    {\n",
      "                        \"height\": 64,\n",
      "                        \"url\": \"https://i.scdn.co/image/ab67616d00004851b9c89bb14d58ea3150bd435d\",\n",
      "                        \"width\": 64\n",
      "                    }\n",
      "                ],\n",
      "                \"name\": \"Good Intentions (Brown Boy 2 Deluxe Version)\",\n",
      "                \"release_date\": \"2020-05-11\",\n",
      "                \"release_date_precision\": \"day\",\n",
      "                \"total_tracks\": 32,\n",
      "                \"type\": \"album\",\n",
      "                \"uri\": \"spotify:album:2kx4l1OQNT2JXLld9HJDIh\"\n",
      "            },\n",
      "            {\n",
      "                \"album_type\": \"single\",\n",
      "                \"artists\": [\n",
      "                    {\n",
      "                        \"external_urls\": {\n",
      "                            \"spotify\": \"https://open.spotify.com/artist/6oMuImdp5ZcFhWP0ESe6mG\"\n",
      "                        },\n",
      "                        \"href\": \"https://api.spotify.com/v1/artists/6oMuImdp5ZcFhWP0ESe6mG\",\n",
      "                        \"id\": \"6oMuImdp5ZcFhWP0ESe6mG\",\n",
      "                        \"name\": \"Migos\",\n",
      "                        \"type\": \"artist\",\n",
      "                        \"uri\": \"spotify:artist:6oMuImdp5ZcFhWP0ESe6mG\"\n",
      "                    }\n",
      "                ],\n",
      "                \"available_markets\": [\n",
      "                    \"AD\",\n",
      "                    \"AE\",\n",
      "                    \"AR\",\n",
      "                    \"AT\",\n",
      "                    \"AU\",\n",
      "                    \"BE\",\n",
      "                    \"BG\",\n",
      "                    \"BH\",\n",
      "                    \"BO\",\n",
      "                    \"BR\",\n",
      "                    \"CA\",\n",
      "                    \"CH\",\n",
      "                    \"CL\",\n",
      "                    \"CO\",\n",
      "                    \"CR\",\n",
      "                    \"CY\",\n",
      "                    \"CZ\",\n",
      "                    \"DE\",\n",
      "                    \"DK\",\n",
      "                    \"DO\",\n",
      "                    \"DZ\",\n",
      "                    \"EC\",\n",
      "                    \"EE\",\n",
      "                    \"EG\",\n",
      "                    \"ES\",\n",
      "                    \"FI\",\n",
      "                    \"FR\",\n",
      "                    \"GB\",\n",
      "                    \"GR\",\n",
      "                    \"GT\",\n",
      "                    \"HK\",\n",
      "                    \"HN\",\n",
      "                    \"HU\",\n",
      "                    \"ID\",\n",
      "                    \"IE\",\n",
      "                    \"IL\",\n",
      "                    \"IN\",\n",
      "                    \"IS\",\n",
      "                    \"IT\",\n",
      "                    \"JO\",\n",
      "                    \"JP\",\n",
      "                    \"KW\",\n",
      "                    \"LB\",\n",
      "                    \"LI\",\n",
      "                    \"LT\",\n",
      "                    \"LU\",\n",
      "                    \"LV\",\n",
      "                    \"MA\",\n",
      "                    \"MC\",\n",
      "                    \"MT\",\n",
      "                    \"MX\",\n",
      "                    \"MY\",\n",
      "                    \"NI\",\n",
      "                    \"NL\",\n",
      "                    \"NO\",\n",
      "                    \"NZ\",\n",
      "                    \"OM\",\n",
      "                    \"PA\",\n",
      "                    \"PE\",\n",
      "                    \"PH\",\n",
      "                    \"PL\",\n",
      "                    \"PS\",\n",
      "                    \"PT\",\n",
      "                    \"PY\",\n",
      "                    \"QA\",\n",
      "                    \"RO\",\n",
      "                    \"SA\",\n",
      "                    \"SE\",\n",
      "                    \"SG\",\n",
      "                    \"SK\",\n",
      "                    \"SV\",\n",
      "                    \"TH\",\n",
      "                    \"TN\",\n",
      "                    \"TR\",\n",
      "                    \"TW\",\n",
      "                    \"US\",\n",
      "                    \"UY\",\n",
      "                    \"VN\",\n",
      "                    \"ZA\"\n",
      "                ],\n",
      "                \"external_urls\": {\n",
      "                    \"spotify\": \"https://open.spotify.com/album/3PASWLvNfvfMF68dDznEgK\"\n",
      "                },\n",
      "                \"href\": \"https://api.spotify.com/v1/albums/3PASWLvNfvfMF68dDznEgK\",\n",
      "                \"id\": \"3PASWLvNfvfMF68dDznEgK\",\n",
      "                \"images\": [\n",
      "                    {\n",
      "                        \"height\": 640,\n",
      "                        \"url\": \"https://i.scdn.co/image/ab67616d0000b2739325c863d9139cc2d507421b\",\n",
      "                        \"width\": 640\n",
      "                    },\n",
      "                    {\n",
      "                        \"height\": 300,\n",
      "                        \"url\": \"https://i.scdn.co/image/ab67616d00001e029325c863d9139cc2d507421b\",\n",
      "                        \"width\": 300\n",
      "                    },\n",
      "                    {\n",
      "                        \"height\": 64,\n",
      "                        \"url\": \"https://i.scdn.co/image/ab67616d000048519325c863d9139cc2d507421b\",\n",
      "                        \"width\": 64\n",
      "                    }\n",
      "                ],\n",
      "                \"name\": \"Racks 2 Skinny\",\n",
      "                \"release_date\": \"2020-05-11\",\n",
      "                \"release_date_precision\": \"day\",\n",
      "                \"total_tracks\": 1,\n",
      "                \"type\": \"album\",\n",
      "                \"uri\": \"spotify:album:3PASWLvNfvfMF68dDznEgK\"\n",
      "            },\n",
      "            {\n",
      "                \"album_type\": \"single\",\n",
      "                \"artists\": [\n",
      "                    {\n",
      "                        \"external_urls\": {\n",
      "                            \"spotify\": \"https://open.spotify.com/artist/5Zq7R5qmi58ByYyBQTlNuk\"\n",
      "                        },\n",
      "                        \"href\": \"https://api.spotify.com/v1/artists/5Zq7R5qmi58ByYyBQTlNuk\",\n",
      "                        \"id\": \"5Zq7R5qmi58ByYyBQTlNuk\",\n",
      "                        \"name\": \"Lee Brice\",\n",
      "                        \"type\": \"artist\",\n",
      "                        \"uri\": \"spotify:artist:5Zq7R5qmi58ByYyBQTlNuk\"\n",
      "                    }\n",
      "                ],\n",
      "                \"available_markets\": [\n",
      "                    \"AD\",\n",
      "                    \"AE\",\n",
      "                    \"AR\",\n",
      "                    \"AT\",\n",
      "                    \"AU\",\n",
      "                    \"BE\",\n",
      "                    \"BG\",\n",
      "                    \"BH\",\n",
      "                    \"BO\",\n",
      "                    \"BR\",\n",
      "                    \"CA\",\n",
      "                    \"CH\",\n",
      "                    \"CL\",\n",
      "                    \"CO\",\n",
      "                    \"CR\",\n",
      "                    \"CY\",\n",
      "                    \"CZ\",\n",
      "                    \"DE\",\n",
      "                    \"DK\",\n",
      "                    \"DO\",\n",
      "                    \"DZ\",\n",
      "                    \"EC\",\n",
      "                    \"EE\",\n",
      "                    \"EG\",\n",
      "                    \"ES\",\n",
      "                    \"FI\",\n",
      "                    \"FR\",\n",
      "                    \"GB\",\n",
      "                    \"GR\",\n",
      "                    \"GT\",\n",
      "                    \"HK\",\n",
      "                    \"HN\",\n",
      "                    \"HU\",\n",
      "                    \"ID\",\n",
      "                    \"IE\",\n",
      "                    \"IL\",\n",
      "                    \"IN\",\n",
      "                    \"IS\",\n",
      "                    \"IT\",\n",
      "                    \"JO\",\n",
      "                    \"JP\",\n",
      "                    \"KW\",\n",
      "                    \"LB\",\n",
      "                    \"LI\",\n",
      "                    \"LT\",\n",
      "                    \"LU\",\n",
      "                    \"LV\",\n",
      "                    \"MA\",\n",
      "                    \"MC\",\n",
      "                    \"MT\",\n",
      "                    \"MX\",\n",
      "                    \"MY\",\n",
      "                    \"NI\",\n",
      "                    \"NL\",\n",
      "                    \"NO\",\n",
      "                    \"NZ\",\n",
      "                    \"OM\",\n",
      "                    \"PA\",\n",
      "                    \"PE\",\n",
      "                    \"PH\",\n",
      "                    \"PL\",\n",
      "                    \"PS\",\n",
      "                    \"PT\",\n",
      "                    \"PY\",\n",
      "                    \"QA\",\n",
      "                    \"RO\",\n",
      "                    \"SA\",\n",
      "                    \"SE\",\n",
      "                    \"SG\",\n",
      "                    \"SK\",\n",
      "                    \"SV\",\n",
      "                    \"TH\",\n",
      "                    \"TN\",\n",
      "                    \"TR\",\n",
      "                    \"TW\",\n",
      "                    \"US\",\n",
      "                    \"UY\",\n",
      "                    \"VN\",\n",
      "                    \"ZA\"\n",
      "                ],\n",
      "                \"external_urls\": {\n",
      "                    \"spotify\": \"https://open.spotify.com/album/5LK5cCx0XdniivfZ91vOSv\"\n",
      "                },\n",
      "                \"href\": \"https://api.spotify.com/v1/albums/5LK5cCx0XdniivfZ91vOSv\",\n",
      "                \"id\": \"5LK5cCx0XdniivfZ91vOSv\",\n",
      "                \"images\": [\n",
      "                    {\n",
      "                        \"height\": 640,\n",
      "                        \"url\": \"https://i.scdn.co/image/ab67616d0000b27306ae99421702f8a9d881e268\",\n",
      "                        \"width\": 640\n",
      "                    },\n",
      "                    {\n",
      "                        \"height\": 300,\n",
      "                        \"url\": \"https://i.scdn.co/image/ab67616d00001e0206ae99421702f8a9d881e268\",\n",
      "                        \"width\": 300\n",
      "                    },\n",
      "                    {\n",
      "                        \"height\": 64,\n",
      "                        \"url\": \"https://i.scdn.co/image/ab67616d0000485106ae99421702f8a9d881e268\",\n",
      "                        \"width\": 64\n",
      "                    }\n",
      "                ],\n",
      "                \"name\": \"One Of Them Girls\",\n",
      "                \"release_date\": \"2020-05-15\",\n",
      "                \"release_date_precision\": \"day\",\n",
      "                \"total_tracks\": 2,\n",
      "                \"type\": \"album\",\n",
      "                \"uri\": \"spotify:album:5LK5cCx0XdniivfZ91vOSv\"\n",
      "            },\n",
      "            {\n",
      "                \"album_type\": \"album\",\n",
      "                \"artists\": [\n",
      "                    {\n",
      "                        \"external_urls\": {\n",
      "                            \"spotify\": \"https://open.spotify.com/artist/2o5jDhtHVPhrJdv3cEQ99Z\"\n",
      "                        },\n",
      "                        \"href\": \"https://api.spotify.com/v1/artists/2o5jDhtHVPhrJdv3cEQ99Z\",\n",
      "                        \"id\": \"2o5jDhtHVPhrJdv3cEQ99Z\",\n",
      "                        \"name\": \"Ti\\u00ebsto\",\n",
      "                        \"type\": \"artist\",\n",
      "                        \"uri\": \"spotify:artist:2o5jDhtHVPhrJdv3cEQ99Z\"\n",
      "                    }\n",
      "                ],\n",
      "                \"available_markets\": [\n",
      "                    \"AD\",\n",
      "                    \"AE\",\n",
      "                    \"AR\",\n",
      "                    \"AT\",\n",
      "                    \"AU\",\n",
      "                    \"BE\",\n",
      "                    \"BG\",\n",
      "                    \"BH\",\n",
      "                    \"BO\",\n",
      "                    \"BR\",\n",
      "                    \"CA\",\n",
      "                    \"CH\",\n",
      "                    \"CL\",\n",
      "                    \"CO\",\n",
      "                    \"CR\",\n",
      "                    \"CY\",\n",
      "                    \"CZ\",\n",
      "                    \"DE\",\n",
      "                    \"DK\",\n",
      "                    \"DO\",\n",
      "                    \"DZ\",\n",
      "                    \"EC\",\n",
      "                    \"EE\",\n",
      "                    \"EG\",\n",
      "                    \"ES\",\n",
      "                    \"FI\",\n",
      "                    \"FR\",\n",
      "                    \"GB\",\n",
      "                    \"GR\",\n",
      "                    \"GT\",\n",
      "                    \"HK\",\n",
      "                    \"HN\",\n",
      "                    \"HU\",\n",
      "                    \"ID\",\n",
      "                    \"IE\",\n",
      "                    \"IL\",\n",
      "                    \"IN\",\n",
      "                    \"IS\",\n",
      "                    \"IT\",\n",
      "                    \"JO\",\n",
      "                    \"JP\",\n",
      "                    \"KW\",\n",
      "                    \"LB\",\n",
      "                    \"LI\",\n",
      "                    \"LT\",\n",
      "                    \"LU\",\n",
      "                    \"LV\",\n",
      "                    \"MA\",\n",
      "                    \"MC\",\n",
      "                    \"MT\",\n",
      "                    \"MX\",\n",
      "                    \"MY\",\n",
      "                    \"NI\",\n",
      "                    \"NL\",\n",
      "                    \"NO\",\n",
      "                    \"NZ\",\n",
      "                    \"OM\",\n",
      "                    \"PA\",\n",
      "                    \"PE\",\n",
      "                    \"PH\",\n",
      "                    \"PL\",\n",
      "                    \"PS\",\n",
      "                    \"PT\",\n",
      "                    \"PY\",\n",
      "                    \"QA\",\n",
      "                    \"RO\",\n",
      "                    \"SA\",\n",
      "                    \"SE\",\n",
      "                    \"SG\",\n",
      "                    \"SK\",\n",
      "                    \"SV\",\n",
      "                    \"TH\",\n",
      "                    \"TN\",\n",
      "                    \"TR\",\n",
      "                    \"TW\",\n",
      "                    \"US\",\n",
      "                    \"UY\",\n",
      "                    \"VN\",\n",
      "                    \"ZA\"\n",
      "                ],\n",
      "                \"external_urls\": {\n",
      "                    \"spotify\": \"https://open.spotify.com/album/6CIslPQSknp875cigkhKJC\"\n",
      "                },\n",
      "                \"href\": \"https://api.spotify.com/v1/albums/6CIslPQSknp875cigkhKJC\",\n",
      "                \"id\": \"6CIslPQSknp875cigkhKJC\",\n",
      "                \"images\": [\n",
      "                    {\n",
      "                        \"height\": 640,\n",
      "                        \"url\": \"https://i.scdn.co/image/ab67616d0000b2739759d6dfa2c19091814fccb3\",\n",
      "                        \"width\": 640\n",
      "                    },\n",
      "                    {\n",
      "                        \"height\": 300,\n",
      "                        \"url\": \"https://i.scdn.co/image/ab67616d00001e029759d6dfa2c19091814fccb3\",\n",
      "                        \"width\": 300\n",
      "                    },\n",
      "                    {\n",
      "                        \"height\": 64,\n",
      "                        \"url\": \"https://i.scdn.co/image/ab67616d000048519759d6dfa2c19091814fccb3\",\n",
      "                        \"width\": 64\n",
      "                    }\n",
      "                ],\n",
      "                \"name\": \"The London Sessions\",\n",
      "                \"release_date\": \"2020-05-15\",\n",
      "                \"release_date_precision\": \"day\",\n",
      "                \"total_tracks\": 13,\n",
      "                \"type\": \"album\",\n",
      "                \"uri\": \"spotify:album:6CIslPQSknp875cigkhKJC\"\n",
      "            },\n",
      "            {\n",
      "                \"album_type\": \"single\",\n",
      "                \"artists\": [\n",
      "                    {\n",
      "                        \"external_urls\": {\n",
      "                            \"spotify\": \"https://open.spotify.com/artist/6pBNfggcZZDCmb0p92OnGn\"\n",
      "                        },\n",
      "                        \"href\": \"https://api.spotify.com/v1/artists/6pBNfggcZZDCmb0p92OnGn\",\n",
      "                        \"id\": \"6pBNfggcZZDCmb0p92OnGn\",\n",
      "                        \"name\": \"Chase Rice\",\n",
      "                        \"type\": \"artist\",\n",
      "                        \"uri\": \"spotify:artist:6pBNfggcZZDCmb0p92OnGn\"\n",
      "                    }\n",
      "                ],\n",
      "                \"available_markets\": [\n",
      "                    \"AD\",\n",
      "                    \"AE\",\n",
      "                    \"AR\",\n",
      "                    \"AT\",\n",
      "                    \"AU\",\n",
      "                    \"BE\",\n",
      "                    \"BG\",\n",
      "                    \"BH\",\n",
      "                    \"BO\",\n",
      "                    \"BR\",\n",
      "                    \"CA\",\n",
      "                    \"CH\",\n",
      "                    \"CL\",\n",
      "                    \"CO\",\n",
      "                    \"CR\",\n",
      "                    \"CY\",\n",
      "                    \"CZ\",\n",
      "                    \"DE\",\n",
      "                    \"DK\",\n",
      "                    \"DO\",\n",
      "                    \"DZ\",\n",
      "                    \"EC\",\n",
      "                    \"EE\",\n",
      "                    \"EG\",\n",
      "                    \"ES\",\n",
      "                    \"FI\",\n",
      "                    \"FR\",\n",
      "                    \"GB\",\n",
      "                    \"GR\",\n",
      "                    \"GT\",\n",
      "                    \"HK\",\n",
      "                    \"HN\",\n",
      "                    \"HU\",\n",
      "                    \"ID\",\n",
      "                    \"IE\",\n",
      "                    \"IL\",\n",
      "                    \"IS\",\n",
      "                    \"IT\",\n",
      "                    \"JO\",\n",
      "                    \"JP\",\n",
      "                    \"KW\",\n",
      "                    \"LB\",\n",
      "                    \"LI\",\n",
      "                    \"LT\",\n",
      "                    \"LU\",\n",
      "                    \"LV\",\n",
      "                    \"MA\",\n",
      "                    \"MC\",\n",
      "                    \"MT\",\n",
      "                    \"MX\",\n",
      "                    \"MY\",\n",
      "                    \"NI\",\n",
      "                    \"NL\",\n",
      "                    \"NO\",\n",
      "                    \"NZ\",\n",
      "                    \"OM\",\n",
      "                    \"PA\",\n",
      "                    \"PE\",\n",
      "                    \"PH\",\n",
      "                    \"PL\",\n",
      "                    \"PS\",\n",
      "                    \"PT\",\n",
      "                    \"PY\",\n",
      "                    \"QA\",\n",
      "                    \"RO\",\n",
      "                    \"SA\",\n",
      "                    \"SE\",\n",
      "                    \"SG\",\n",
      "                    \"SK\",\n",
      "                    \"SV\",\n",
      "                    \"TH\",\n",
      "                    \"TN\",\n",
      "                    \"TR\",\n",
      "                    \"TW\",\n",
      "                    \"US\",\n",
      "                    \"UY\",\n",
      "                    \"VN\",\n",
      "                    \"ZA\"\n",
      "                ],\n",
      "                \"external_urls\": {\n",
      "                    \"spotify\": \"https://open.spotify.com/album/5XvXf3mdhShyLZhoJYR74q\"\n",
      "                },\n",
      "                \"href\": \"https://api.spotify.com/v1/albums/5XvXf3mdhShyLZhoJYR74q\",\n",
      "                \"id\": \"5XvXf3mdhShyLZhoJYR74q\",\n",
      "                \"images\": [\n",
      "                    {\n",
      "                        \"height\": 640,\n",
      "                        \"url\": \"https://i.scdn.co/image/ab67616d0000b2735f6b892b478747a769252650\",\n",
      "                        \"width\": 640\n",
      "                    },\n",
      "                    {\n",
      "                        \"height\": 300,\n",
      "                        \"url\": \"https://i.scdn.co/image/ab67616d00001e025f6b892b478747a769252650\",\n",
      "                        \"width\": 300\n",
      "                    },\n",
      "                    {\n",
      "                        \"height\": 64,\n",
      "                        \"url\": \"https://i.scdn.co/image/ab67616d000048515f6b892b478747a769252650\",\n",
      "                        \"width\": 64\n",
      "                    }\n",
      "                ],\n",
      "                \"name\": \"The Album, Pt. II\",\n",
      "                \"release_date\": \"2020-05-15\",\n",
      "                \"release_date_precision\": \"day\",\n",
      "                \"total_tracks\": 4,\n",
      "                \"type\": \"album\",\n",
      "                \"uri\": \"spotify:album:5XvXf3mdhShyLZhoJYR74q\"\n",
      "            },\n",
      "            {\n",
      "                \"album_type\": \"album\",\n",
      "                \"artists\": [\n",
      "                    {\n",
      "                        \"external_urls\": {\n",
      "                            \"spotify\": \"https://open.spotify.com/artist/1caBfBEapzw8z2Qz9q0OaQ\"\n",
      "                        },\n",
      "                        \"href\": \"https://api.spotify.com/v1/artists/1caBfBEapzw8z2Qz9q0OaQ\",\n",
      "                        \"id\": \"1caBfBEapzw8z2Qz9q0OaQ\",\n",
      "                        \"name\": \"Asking Alexandria\",\n",
      "                        \"type\": \"artist\",\n",
      "                        \"uri\": \"spotify:artist:1caBfBEapzw8z2Qz9q0OaQ\"\n",
      "                    }\n",
      "                ],\n",
      "                \"available_markets\": [\n",
      "                    \"AD\",\n",
      "                    \"AE\",\n",
      "                    \"AR\",\n",
      "                    \"AT\",\n",
      "                    \"AU\",\n",
      "                    \"BE\",\n",
      "                    \"BG\",\n",
      "                    \"BH\",\n",
      "                    \"BO\",\n",
      "                    \"BR\",\n",
      "                    \"CA\",\n",
      "                    \"CH\",\n",
      "                    \"CL\",\n",
      "                    \"CO\",\n",
      "                    \"CR\",\n",
      "                    \"CY\",\n",
      "                    \"CZ\",\n",
      "                    \"DE\",\n",
      "                    \"DK\",\n",
      "                    \"DO\",\n",
      "                    \"DZ\",\n",
      "                    \"EC\",\n",
      "                    \"EE\",\n",
      "                    \"EG\",\n",
      "                    \"ES\",\n",
      "                    \"FI\",\n",
      "                    \"FR\",\n",
      "                    \"GB\",\n",
      "                    \"GR\",\n",
      "                    \"GT\",\n",
      "                    \"HK\",\n",
      "                    \"HN\",\n",
      "                    \"HU\",\n",
      "                    \"ID\",\n",
      "                    \"IE\",\n",
      "                    \"IL\",\n",
      "                    \"IN\",\n",
      "                    \"IS\",\n",
      "                    \"IT\",\n",
      "                    \"JO\",\n",
      "                    \"JP\",\n",
      "                    \"KW\",\n",
      "                    \"LB\",\n",
      "                    \"LI\",\n",
      "                    \"LT\",\n",
      "                    \"LU\",\n",
      "                    \"LV\",\n",
      "                    \"MA\",\n",
      "                    \"MC\",\n",
      "                    \"MT\",\n",
      "                    \"MX\",\n",
      "                    \"MY\",\n",
      "                    \"NI\",\n",
      "                    \"NL\",\n",
      "                    \"NO\",\n",
      "                    \"NZ\",\n",
      "                    \"OM\",\n",
      "                    \"PA\",\n",
      "                    \"PE\",\n",
      "                    \"PH\",\n",
      "                    \"PL\",\n",
      "                    \"PS\",\n",
      "                    \"PT\",\n",
      "                    \"PY\",\n",
      "                    \"QA\",\n",
      "                    \"RO\",\n",
      "                    \"SA\",\n",
      "                    \"SE\",\n",
      "                    \"SG\",\n",
      "                    \"SK\",\n",
      "                    \"SV\",\n",
      "                    \"TH\",\n",
      "                    \"TN\",\n",
      "                    \"TR\",\n",
      "                    \"TW\",\n",
      "                    \"US\",\n",
      "                    \"UY\",\n",
      "                    \"VN\",\n",
      "                    \"ZA\"\n",
      "                ],\n",
      "                \"external_urls\": {\n",
      "                    \"spotify\": \"https://open.spotify.com/album/5VKKXDvYuJmRc2UQHCwNQK\"\n",
      "                },\n",
      "                \"href\": \"https://api.spotify.com/v1/albums/5VKKXDvYuJmRc2UQHCwNQK\",\n",
      "                \"id\": \"5VKKXDvYuJmRc2UQHCwNQK\",\n",
      "                \"images\": [\n",
      "                    {\n",
      "                        \"height\": 640,\n",
      "                        \"url\": \"https://i.scdn.co/image/ab67616d0000b273d30ebbcdf987ab5273abdd8d\",\n",
      "                        \"width\": 640\n",
      "                    },\n",
      "                    {\n",
      "                        \"height\": 300,\n",
      "                        \"url\": \"https://i.scdn.co/image/ab67616d00001e02d30ebbcdf987ab5273abdd8d\",\n",
      "                        \"width\": 300\n",
      "                    },\n",
      "                    {\n",
      "                        \"height\": 64,\n",
      "                        \"url\": \"https://i.scdn.co/image/ab67616d00004851d30ebbcdf987ab5273abdd8d\",\n",
      "                        \"width\": 64\n",
      "                    }\n",
      "                ],\n",
      "                \"name\": \"Like A House On Fire\",\n",
      "                \"release_date\": \"2020-05-15\",\n",
      "                \"release_date_precision\": \"day\",\n",
      "                \"total_tracks\": 15,\n",
      "                \"type\": \"album\",\n",
      "                \"uri\": \"spotify:album:5VKKXDvYuJmRc2UQHCwNQK\"\n",
      "            },\n",
      "            {\n",
      "                \"album_type\": \"single\",\n",
      "                \"artists\": [\n",
      "                    {\n",
      "                        \"external_urls\": {\n",
      "                            \"spotify\": \"https://open.spotify.com/artist/7d3WFRME3vBY2cgoP38RDo\"\n",
      "                        },\n",
      "                        \"href\": \"https://api.spotify.com/v1/artists/7d3WFRME3vBY2cgoP38RDo\",\n",
      "                        \"id\": \"7d3WFRME3vBY2cgoP38RDo\",\n",
      "                        \"name\": \"Lil Skies\",\n",
      "                        \"type\": \"artist\",\n",
      "                        \"uri\": \"spotify:artist:7d3WFRME3vBY2cgoP38RDo\"\n",
      "                    }\n",
      "                ],\n",
      "                \"available_markets\": [\n",
      "                    \"AD\",\n",
      "                    \"AE\",\n",
      "                    \"AR\",\n",
      "                    \"AT\",\n",
      "                    \"AU\",\n",
      "                    \"BE\",\n",
      "                    \"BG\",\n",
      "                    \"BH\",\n",
      "                    \"BO\",\n",
      "                    \"BR\",\n",
      "                    \"CA\",\n",
      "                    \"CH\",\n",
      "                    \"CL\",\n",
      "                    \"CO\",\n",
      "                    \"CR\",\n",
      "                    \"CY\",\n",
      "                    \"CZ\",\n",
      "                    \"DE\",\n",
      "                    \"DK\",\n",
      "                    \"DO\",\n",
      "                    \"DZ\",\n",
      "                    \"EC\",\n",
      "                    \"EE\",\n",
      "                    \"EG\",\n",
      "                    \"ES\",\n",
      "                    \"FI\",\n",
      "                    \"FR\",\n",
      "                    \"GB\",\n",
      "                    \"GR\",\n",
      "                    \"GT\",\n",
      "                    \"HK\",\n",
      "                    \"HN\",\n",
      "                    \"HU\",\n",
      "                    \"ID\",\n",
      "                    \"IE\",\n",
      "                    \"IL\",\n",
      "                    \"IN\",\n",
      "                    \"IS\",\n",
      "                    \"IT\",\n",
      "                    \"JO\",\n",
      "                    \"JP\",\n",
      "                    \"KW\",\n",
      "                    \"LB\",\n",
      "                    \"LI\",\n",
      "                    \"LT\",\n",
      "                    \"LU\",\n",
      "                    \"LV\",\n",
      "                    \"MA\",\n",
      "                    \"MC\",\n",
      "                    \"MT\",\n",
      "                    \"MX\",\n",
      "                    \"MY\",\n",
      "                    \"NI\",\n",
      "                    \"NL\",\n",
      "                    \"NO\",\n",
      "                    \"NZ\",\n",
      "                    \"OM\",\n",
      "                    \"PA\",\n",
      "                    \"PE\",\n",
      "                    \"PH\",\n",
      "                    \"PL\",\n",
      "                    \"PS\",\n",
      "                    \"PT\",\n",
      "                    \"PY\",\n",
      "                    \"QA\",\n",
      "                    \"RO\",\n",
      "                    \"SA\",\n",
      "                    \"SE\",\n",
      "                    \"SG\",\n",
      "                    \"SK\",\n",
      "                    \"SV\",\n",
      "                    \"TH\",\n",
      "                    \"TN\",\n",
      "                    \"TR\",\n",
      "                    \"TW\",\n",
      "                    \"US\",\n",
      "                    \"UY\",\n",
      "                    \"VN\",\n",
      "                    \"ZA\"\n",
      "                ],\n",
      "                \"external_urls\": {\n",
      "                    \"spotify\": \"https://open.spotify.com/album/3cVy1WTjSAVpzUc7MVCTLu\"\n",
      "                },\n",
      "                \"href\": \"https://api.spotify.com/v1/albums/3cVy1WTjSAVpzUc7MVCTLu\",\n",
      "                \"id\": \"3cVy1WTjSAVpzUc7MVCTLu\",\n",
      "                \"images\": [\n",
      "                    {\n",
      "                        \"height\": 640,\n",
      "                        \"url\": \"https://i.scdn.co/image/ab67616d0000b273f7571dc32332081426ab3818\",\n",
      "                        \"width\": 640\n",
      "                    },\n",
      "                    {\n",
      "                        \"height\": 300,\n",
      "                        \"url\": \"https://i.scdn.co/image/ab67616d00001e02f7571dc32332081426ab3818\",\n",
      "                        \"width\": 300\n",
      "                    },\n",
      "                    {\n",
      "                        \"height\": 64,\n",
      "                        \"url\": \"https://i.scdn.co/image/ab67616d00004851f7571dc32332081426ab3818\",\n",
      "                        \"width\": 64\n",
      "                    }\n",
      "                ],\n",
      "                \"name\": \"Riot\",\n",
      "                \"release_date\": \"2020-05-13\",\n",
      "                \"release_date_precision\": \"day\",\n",
      "                \"total_tracks\": 1,\n",
      "                \"type\": \"album\",\n",
      "                \"uri\": \"spotify:album:3cVy1WTjSAVpzUc7MVCTLu\"\n",
      "            },\n",
      "            {\n",
      "                \"album_type\": \"album\",\n",
      "                \"artists\": [\n",
      "                    {\n",
      "                        \"external_urls\": {\n",
      "                            \"spotify\": \"https://open.spotify.com/artist/55fhWPvDiMpLnE4ZzNXZyW\"\n",
      "                        },\n",
      "                        \"href\": \"https://api.spotify.com/v1/artists/55fhWPvDiMpLnE4ZzNXZyW\",\n",
      "                        \"id\": \"55fhWPvDiMpLnE4ZzNXZyW\",\n",
      "                        \"name\": \"Noah Cyrus\",\n",
      "                        \"type\": \"artist\",\n",
      "                        \"uri\": \"spotify:artist:55fhWPvDiMpLnE4ZzNXZyW\"\n",
      "                    }\n",
      "                ],\n",
      "                \"available_markets\": [\n",
      "                    \"AD\",\n",
      "                    \"AE\",\n",
      "                    \"AR\",\n",
      "                    \"AT\",\n",
      "                    \"AU\",\n",
      "                    \"BE\",\n",
      "                    \"BG\",\n",
      "                    \"BH\",\n",
      "                    \"BO\",\n",
      "                    \"BR\",\n",
      "                    \"CA\",\n",
      "                    \"CH\",\n",
      "                    \"CL\",\n",
      "                    \"CO\",\n",
      "                    \"CR\",\n",
      "                    \"CY\",\n",
      "                    \"CZ\",\n",
      "                    \"DE\",\n",
      "                    \"DK\",\n",
      "                    \"DO\",\n",
      "                    \"DZ\",\n",
      "                    \"EC\",\n",
      "                    \"EE\",\n",
      "                    \"EG\",\n",
      "                    \"ES\",\n",
      "                    \"FI\",\n",
      "                    \"FR\",\n",
      "                    \"GB\",\n",
      "                    \"GR\",\n",
      "                    \"GT\",\n",
      "                    \"HK\",\n",
      "                    \"HN\",\n",
      "                    \"HU\",\n",
      "                    \"ID\",\n",
      "                    \"IE\",\n",
      "                    \"IL\",\n",
      "                    \"IN\",\n",
      "                    \"IS\",\n",
      "                    \"IT\",\n",
      "                    \"JO\",\n",
      "                    \"JP\",\n",
      "                    \"KW\",\n",
      "                    \"LB\",\n",
      "                    \"LI\",\n",
      "                    \"LT\",\n",
      "                    \"LU\",\n",
      "                    \"LV\",\n",
      "                    \"MA\",\n",
      "                    \"MC\",\n",
      "                    \"MT\",\n",
      "                    \"MX\",\n",
      "                    \"MY\",\n",
      "                    \"NI\",\n",
      "                    \"NL\",\n",
      "                    \"NO\",\n",
      "                    \"NZ\",\n",
      "                    \"OM\",\n",
      "                    \"PA\",\n",
      "                    \"PE\",\n",
      "                    \"PH\",\n",
      "                    \"PL\",\n",
      "                    \"PS\",\n",
      "                    \"PT\",\n",
      "                    \"PY\",\n",
      "                    \"QA\",\n",
      "                    \"RO\",\n",
      "                    \"SA\",\n",
      "                    \"SE\",\n",
      "                    \"SG\",\n",
      "                    \"SK\",\n",
      "                    \"SV\",\n",
      "                    \"TH\",\n",
      "                    \"TN\",\n",
      "                    \"TR\",\n",
      "                    \"TW\",\n",
      "                    \"US\",\n",
      "                    \"UY\",\n",
      "                    \"VN\",\n",
      "                    \"ZA\"\n",
      "                ],\n",
      "                \"external_urls\": {\n",
      "                    \"spotify\": \"https://open.spotify.com/album/5Gn3fFzlWL89j0hGumtXb5\"\n",
      "                },\n",
      "                \"href\": \"https://api.spotify.com/v1/albums/5Gn3fFzlWL89j0hGumtXb5\",\n",
      "                \"id\": \"5Gn3fFzlWL89j0hGumtXb5\",\n",
      "                \"images\": [\n",
      "                    {\n",
      "                        \"height\": 640,\n",
      "                        \"url\": \"https://i.scdn.co/image/ab67616d0000b2737f66b73bd6e86f4c8d2a7692\",\n",
      "                        \"width\": 640\n",
      "                    },\n",
      "                    {\n",
      "                        \"height\": 300,\n",
      "                        \"url\": \"https://i.scdn.co/image/ab67616d00001e027f66b73bd6e86f4c8d2a7692\",\n",
      "                        \"width\": 300\n",
      "                    },\n",
      "                    {\n",
      "                        \"height\": 64,\n",
      "                        \"url\": \"https://i.scdn.co/image/ab67616d000048517f66b73bd6e86f4c8d2a7692\",\n",
      "                        \"width\": 64\n",
      "                    }\n",
      "                ],\n",
      "                \"name\": \"THE END OF EVERYTHING\",\n",
      "                \"release_date\": \"2020-05-15\",\n",
      "                \"release_date_precision\": \"day\",\n",
      "                \"total_tracks\": 8,\n",
      "                \"type\": \"album\",\n",
      "                \"uri\": \"spotify:album:5Gn3fFzlWL89j0hGumtXb5\"\n",
      "            },\n",
      "            {\n",
      "                \"album_type\": \"single\",\n",
      "                \"artists\": [\n",
      "                    {\n",
      "                        \"external_urls\": {\n",
      "                            \"spotify\": \"https://open.spotify.com/artist/6C1ohJrd5VydigQtaGy5Wa\"\n",
      "                        },\n",
      "                        \"href\": \"https://api.spotify.com/v1/artists/6C1ohJrd5VydigQtaGy5Wa\",\n",
      "                        \"id\": \"6C1ohJrd5VydigQtaGy5Wa\",\n",
      "                        \"name\": \"Joyner Lucas\",\n",
      "                        \"type\": \"artist\",\n",
      "                        \"uri\": \"spotify:artist:6C1ohJrd5VydigQtaGy5Wa\"\n",
      "                    },\n",
      "                    {\n",
      "                        \"external_urls\": {\n",
      "                            \"spotify\": \"https://open.spotify.com/artist/41qil2VaGbD194gaEcmmyx\"\n",
      "                        },\n",
      "                        \"href\": \"https://api.spotify.com/v1/artists/41qil2VaGbD194gaEcmmyx\",\n",
      "                        \"id\": \"41qil2VaGbD194gaEcmmyx\",\n",
      "                        \"name\": \"Will Smith\",\n",
      "                        \"type\": \"artist\",\n",
      "                        \"uri\": \"spotify:artist:41qil2VaGbD194gaEcmmyx\"\n",
      "                    }\n",
      "                ],\n",
      "                \"available_markets\": [\n",
      "                    \"AD\",\n",
      "                    \"AE\",\n",
      "                    \"AR\",\n",
      "                    \"AT\",\n",
      "                    \"AU\",\n",
      "                    \"BE\",\n",
      "                    \"BG\",\n",
      "                    \"BH\",\n",
      "                    \"BO\",\n",
      "                    \"BR\",\n",
      "                    \"CA\",\n",
      "                    \"CH\",\n",
      "                    \"CL\",\n",
      "                    \"CO\",\n",
      "                    \"CR\",\n",
      "                    \"CY\",\n",
      "                    \"CZ\",\n",
      "                    \"DE\",\n",
      "                    \"DK\",\n",
      "                    \"DO\",\n",
      "                    \"DZ\",\n",
      "                    \"EC\",\n",
      "                    \"EE\",\n",
      "                    \"EG\",\n",
      "                    \"ES\",\n",
      "                    \"FI\",\n",
      "                    \"FR\",\n",
      "                    \"GB\",\n",
      "                    \"GR\",\n",
      "                    \"GT\",\n",
      "                    \"HK\",\n",
      "                    \"HN\",\n",
      "                    \"HU\",\n",
      "                    \"ID\",\n",
      "                    \"IE\",\n",
      "                    \"IL\",\n",
      "                    \"IN\",\n",
      "                    \"IS\",\n",
      "                    \"IT\",\n",
      "                    \"JO\",\n",
      "                    \"JP\",\n",
      "                    \"KW\",\n",
      "                    \"LB\",\n",
      "                    \"LI\",\n",
      "                    \"LT\",\n",
      "                    \"LU\",\n",
      "                    \"LV\",\n",
      "                    \"MA\",\n",
      "                    \"MC\",\n",
      "                    \"MT\",\n",
      "                    \"MX\",\n",
      "                    \"MY\",\n",
      "                    \"NI\",\n",
      "                    \"NL\",\n",
      "                    \"NO\",\n",
      "                    \"NZ\",\n",
      "                    \"OM\",\n",
      "                    \"PA\",\n",
      "                    \"PE\",\n",
      "                    \"PH\",\n",
      "                    \"PL\",\n",
      "                    \"PS\",\n",
      "                    \"PT\",\n",
      "                    \"PY\",\n",
      "                    \"QA\",\n",
      "                    \"RO\",\n",
      "                    \"SA\",\n",
      "                    \"SE\",\n",
      "                    \"SG\",\n",
      "                    \"SK\",\n",
      "                    \"SV\",\n",
      "                    \"TH\",\n",
      "                    \"TN\",\n",
      "                    \"TR\",\n",
      "                    \"TW\",\n",
      "                    \"US\",\n",
      "                    \"UY\",\n",
      "                    \"VN\",\n",
      "                    \"ZA\"\n",
      "                ],\n",
      "                \"external_urls\": {\n",
      "                    \"spotify\": \"https://open.spotify.com/album/3tOe6XM8LmRA5vDAaMqp8e\"\n",
      "                },\n",
      "                \"href\": \"https://api.spotify.com/v1/albums/3tOe6XM8LmRA5vDAaMqp8e\",\n",
      "                \"id\": \"3tOe6XM8LmRA5vDAaMqp8e\",\n",
      "                \"images\": [\n",
      "                    {\n",
      "                        \"height\": 640,\n",
      "                        \"url\": \"https://i.scdn.co/image/ab67616d0000b2734ac196312c24faedb76a345e\",\n",
      "                        \"width\": 640\n",
      "                    },\n",
      "                    {\n",
      "                        \"height\": 300,\n",
      "                        \"url\": \"https://i.scdn.co/image/ab67616d00001e024ac196312c24faedb76a345e\",\n",
      "                        \"width\": 300\n",
      "                    },\n",
      "                    {\n",
      "                        \"height\": 64,\n",
      "                        \"url\": \"https://i.scdn.co/image/ab67616d000048514ac196312c24faedb76a345e\",\n",
      "                        \"width\": 64\n",
      "                    }\n",
      "                ],\n",
      "                \"name\": \"Will (Remix)\",\n",
      "                \"release_date\": \"2020-05-15\",\n",
      "                \"release_date_precision\": \"day\",\n",
      "                \"total_tracks\": 1,\n",
      "                \"type\": \"album\",\n",
      "                \"uri\": \"spotify:album:3tOe6XM8LmRA5vDAaMqp8e\"\n",
      "            },\n",
      "            {\n",
      "                \"album_type\": \"single\",\n",
      "                \"artists\": [\n",
      "                    {\n",
      "                        \"external_urls\": {\n",
      "                            \"spotify\": \"https://open.spotify.com/artist/6Xgp2XMz1fhVYe7i6yNAax\"\n",
      "                        },\n",
      "                        \"href\": \"https://api.spotify.com/v1/artists/6Xgp2XMz1fhVYe7i6yNAax\",\n",
      "                        \"id\": \"6Xgp2XMz1fhVYe7i6yNAax\",\n",
      "                        \"name\": \"Trippie Redd\",\n",
      "                        \"type\": \"artist\",\n",
      "                        \"uri\": \"spotify:artist:6Xgp2XMz1fhVYe7i6yNAax\"\n",
      "                    },\n",
      "                    {\n",
      "                        \"external_urls\": {\n",
      "                            \"spotify\": \"https://open.spotify.com/artist/2HPaUgqeutzr3jx5a9WyDV\"\n",
      "                        },\n",
      "                        \"href\": \"https://api.spotify.com/v1/artists/2HPaUgqeutzr3jx5a9WyDV\",\n",
      "                        \"id\": \"2HPaUgqeutzr3jx5a9WyDV\",\n",
      "                        \"name\": \"PARTYNEXTDOOR\",\n",
      "                        \"type\": \"artist\",\n",
      "                        \"uri\": \"spotify:artist:2HPaUgqeutzr3jx5a9WyDV\"\n",
      "                    }\n",
      "                ],\n",
      "                \"available_markets\": [\n",
      "                    \"AD\",\n",
      "                    \"AE\",\n",
      "                    \"AR\",\n",
      "                    \"AT\",\n",
      "                    \"AU\",\n",
      "                    \"BE\",\n",
      "                    \"BG\",\n",
      "                    \"BH\",\n",
      "                    \"BO\",\n",
      "                    \"BR\",\n",
      "                    \"CA\",\n",
      "                    \"CH\",\n",
      "                    \"CL\",\n",
      "                    \"CO\",\n",
      "                    \"CR\",\n",
      "                    \"CY\",\n",
      "                    \"CZ\",\n",
      "                    \"DE\",\n",
      "                    \"DK\",\n",
      "                    \"DO\",\n",
      "                    \"DZ\",\n",
      "                    \"EC\",\n",
      "                    \"EE\",\n",
      "                    \"EG\",\n",
      "                    \"ES\",\n",
      "                    \"FI\",\n",
      "                    \"FR\",\n",
      "                    \"GB\",\n",
      "                    \"GR\",\n",
      "                    \"GT\",\n",
      "                    \"HK\",\n",
      "                    \"HN\",\n",
      "                    \"HU\",\n",
      "                    \"ID\",\n",
      "                    \"IE\",\n",
      "                    \"IL\",\n",
      "                    \"IN\",\n",
      "                    \"IS\",\n",
      "                    \"IT\",\n",
      "                    \"JO\",\n",
      "                    \"JP\",\n",
      "                    \"KW\",\n",
      "                    \"LB\",\n",
      "                    \"LI\",\n",
      "                    \"LT\",\n",
      "                    \"LU\",\n",
      "                    \"LV\",\n",
      "                    \"MA\",\n",
      "                    \"MC\",\n",
      "                    \"MT\",\n",
      "                    \"MX\",\n",
      "                    \"MY\",\n",
      "                    \"NI\",\n",
      "                    \"NL\",\n",
      "                    \"NO\",\n",
      "                    \"NZ\",\n",
      "                    \"OM\",\n",
      "                    \"PA\",\n",
      "                    \"PE\",\n",
      "                    \"PH\",\n",
      "                    \"PL\",\n",
      "                    \"PS\",\n",
      "                    \"PT\",\n",
      "                    \"PY\",\n",
      "                    \"QA\",\n",
      "                    \"RO\",\n",
      "                    \"SA\",\n",
      "                    \"SE\",\n",
      "                    \"SG\",\n",
      "                    \"SK\",\n",
      "                    \"SV\",\n",
      "                    \"TH\",\n",
      "                    \"TN\",\n",
      "                    \"TR\",\n",
      "                    \"TW\",\n",
      "                    \"US\",\n",
      "                    \"UY\",\n",
      "                    \"VN\",\n",
      "                    \"ZA\"\n",
      "                ],\n",
      "                \"external_urls\": {\n",
      "                    \"spotify\": \"https://open.spotify.com/album/7rcMHNqNbQxF5TaPMHFoKu\"\n",
      "                },\n",
      "                \"href\": \"https://api.spotify.com/v1/albums/7rcMHNqNbQxF5TaPMHFoKu\",\n",
      "                \"id\": \"7rcMHNqNbQxF5TaPMHFoKu\",\n",
      "                \"images\": [\n",
      "                    {\n",
      "                        \"height\": 640,\n",
      "                        \"url\": \"https://i.scdn.co/image/ab67616d0000b273de32a6662a7db272328f4761\",\n",
      "                        \"width\": 640\n",
      "                    },\n",
      "                    {\n",
      "                        \"height\": 300,\n",
      "                        \"url\": \"https://i.scdn.co/image/ab67616d00001e02de32a6662a7db272328f4761\",\n",
      "                        \"width\": 300\n",
      "                    },\n",
      "                    {\n",
      "                        \"height\": 64,\n",
      "                        \"url\": \"https://i.scdn.co/image/ab67616d00004851de32a6662a7db272328f4761\",\n",
      "                        \"width\": 64\n",
      "                    }\n",
      "                ],\n",
      "                \"name\": \"Excitement\",\n",
      "                \"release_date\": \"2020-05-15\",\n",
      "                \"release_date_precision\": \"day\",\n",
      "                \"total_tracks\": 1,\n",
      "                \"type\": \"album\",\n",
      "                \"uri\": \"spotify:album:7rcMHNqNbQxF5TaPMHFoKu\"\n",
      "            },\n",
      "            {\n",
      "                \"album_type\": \"single\",\n",
      "                \"artists\": [\n",
      "                    {\n",
      "                        \"external_urls\": {\n",
      "                            \"spotify\": \"https://open.spotify.com/artist/3NPpFNZtSTHheNBaWC82rB\"\n",
      "                        },\n",
      "                        \"href\": \"https://api.spotify.com/v1/artists/3NPpFNZtSTHheNBaWC82rB\",\n",
      "                        \"id\": \"3NPpFNZtSTHheNBaWC82rB\",\n",
      "                        \"name\": \"X Ambassadors\",\n",
      "                        \"type\": \"artist\",\n",
      "                        \"uri\": \"spotify:artist:3NPpFNZtSTHheNBaWC82rB\"\n",
      "                    },\n",
      "                    {\n",
      "                        \"external_urls\": {\n",
      "                            \"spotify\": \"https://open.spotify.com/artist/0pCNk4D3E2xtszsm6hMsWr\"\n",
      "                        },\n",
      "                        \"href\": \"https://api.spotify.com/v1/artists/0pCNk4D3E2xtszsm6hMsWr\",\n",
      "                        \"id\": \"0pCNk4D3E2xtszsm6hMsWr\",\n",
      "                        \"name\": \"K.Flay\",\n",
      "                        \"type\": \"artist\",\n",
      "                        \"uri\": \"spotify:artist:0pCNk4D3E2xtszsm6hMsWr\"\n",
      "                    },\n",
      "                    {\n",
      "                        \"external_urls\": {\n",
      "                            \"spotify\": \"https://open.spotify.com/artist/4ZgQDCtRqZlhLswVS6MHN4\"\n",
      "                        },\n",
      "                        \"href\": \"https://api.spotify.com/v1/artists/4ZgQDCtRqZlhLswVS6MHN4\",\n",
      "                        \"id\": \"4ZgQDCtRqZlhLswVS6MHN4\",\n",
      "                        \"name\": \"grandson\",\n",
      "                        \"type\": \"artist\",\n",
      "                        \"uri\": \"spotify:artist:4ZgQDCtRqZlhLswVS6MHN4\"\n",
      "                    }\n",
      "                ],\n",
      "                \"available_markets\": [\n",
      "                    \"AD\",\n",
      "                    \"AE\",\n",
      "                    \"AR\",\n",
      "                    \"AT\",\n",
      "                    \"AU\",\n",
      "                    \"BE\",\n",
      "                    \"BG\",\n",
      "                    \"BH\",\n",
      "                    \"BO\",\n",
      "                    \"BR\",\n",
      "                    \"CA\",\n",
      "                    \"CH\",\n",
      "                    \"CL\",\n",
      "                    \"CO\",\n",
      "                    \"CR\",\n",
      "                    \"CY\",\n",
      "                    \"CZ\",\n",
      "                    \"DE\",\n",
      "                    \"DK\",\n",
      "                    \"DO\",\n",
      "                    \"DZ\",\n",
      "                    \"EC\",\n",
      "                    \"EE\",\n",
      "                    \"EG\",\n",
      "                    \"ES\",\n",
      "                    \"FI\",\n",
      "                    \"FR\",\n",
      "                    \"GB\",\n",
      "                    \"GR\",\n",
      "                    \"GT\",\n",
      "                    \"HK\",\n",
      "                    \"HN\",\n",
      "                    \"HU\",\n",
      "                    \"ID\",\n",
      "                    \"IE\",\n",
      "                    \"IL\",\n",
      "                    \"IN\",\n",
      "                    \"IS\",\n",
      "                    \"IT\",\n",
      "                    \"JO\",\n",
      "                    \"JP\",\n",
      "                    \"KW\",\n",
      "                    \"LB\",\n",
      "                    \"LI\",\n",
      "                    \"LT\",\n",
      "                    \"LU\",\n",
      "                    \"LV\",\n",
      "                    \"MA\",\n",
      "                    \"MC\",\n",
      "                    \"MT\",\n",
      "                    \"MX\",\n",
      "                    \"MY\",\n",
      "                    \"NI\",\n",
      "                    \"NL\",\n",
      "                    \"NO\",\n",
      "                    \"NZ\",\n",
      "                    \"OM\",\n",
      "                    \"PA\",\n",
      "                    \"PE\",\n",
      "                    \"PH\",\n",
      "                    \"PL\",\n",
      "                    \"PS\",\n",
      "                    \"PT\",\n",
      "                    \"PY\",\n",
      "                    \"QA\",\n",
      "                    \"RO\",\n",
      "                    \"SA\",\n",
      "                    \"SE\",\n",
      "                    \"SG\",\n",
      "                    \"SK\",\n",
      "                    \"SV\",\n",
      "                    \"TH\",\n",
      "                    \"TN\",\n",
      "                    \"TR\",\n",
      "                    \"TW\",\n",
      "                    \"US\",\n",
      "                    \"UY\",\n",
      "                    \"VN\",\n",
      "                    \"ZA\"\n",
      "                ],\n",
      "                \"external_urls\": {\n",
      "                    \"spotify\": \"https://open.spotify.com/album/2JQbWWpYG6kKppiD6z2FwL\"\n",
      "                },\n",
      "                \"href\": \"https://api.spotify.com/v1/albums/2JQbWWpYG6kKppiD6z2FwL\",\n",
      "                \"id\": \"2JQbWWpYG6kKppiD6z2FwL\",\n",
      "                \"images\": [\n",
      "                    {\n",
      "                        \"height\": 640,\n",
      "                        \"url\": \"https://i.scdn.co/image/ab67616d0000b273e420fab8e9ec9cf79c073a28\",\n",
      "                        \"width\": 640\n",
      "                    },\n",
      "                    {\n",
      "                        \"height\": 300,\n",
      "                        \"url\": \"https://i.scdn.co/image/ab67616d00001e02e420fab8e9ec9cf79c073a28\",\n",
      "                        \"width\": 300\n",
      "                    },\n",
      "                    {\n",
      "                        \"height\": 64,\n",
      "                        \"url\": \"https://i.scdn.co/image/ab67616d00004851e420fab8e9ec9cf79c073a28\",\n",
      "                        \"width\": 64\n",
      "                    }\n",
      "                ],\n",
      "                \"name\": \"Zen (with K.Flay & grandson)\",\n",
      "                \"release_date\": \"2020-05-15\",\n",
      "                \"release_date_precision\": \"day\",\n",
      "                \"total_tracks\": 1,\n",
      "                \"type\": \"album\",\n",
      "                \"uri\": \"spotify:album:2JQbWWpYG6kKppiD6z2FwL\"\n",
      "            }\n",
      "        ],\n",
      "        \"limit\": 20,\n",
      "        \"next\": \"https://api.spotify.com/v1/browse/new-releases?offset=20&limit=20\",\n",
      "        \"offset\": 0,\n",
      "        \"previous\": null,\n",
      "        \"total\": 100\n",
      "    }\n",
      "}\n"
     ]
    }
   ],
   "source": [
    "# One way to make it easier to read\n",
    "print(json.dumps(data, indent=4))"
   ]
  },
  {
   "cell_type": "code",
   "execution_count": null,
   "metadata": {
    "hidden": true,
    "slideshow": {
     "slide_type": "fragment"
    }
   },
   "outputs": [],
   "source": [
    "# Using the default Jupyter Notebook's display() helps\n",
    "#display(data) # Uncomment this to do the same as just displaying the last line\n"
   ]
  },
  {
   "cell_type": "markdown",
   "metadata": {
    "hidden": true,
    "slideshow": {
     "slide_type": "slide"
    }
   },
   "source": [
    "To start exploring, let's check the type of our new `data` object and start mapping out the hierarchy."
   ]
  },
  {
   "cell_type": "code",
   "execution_count": null,
   "metadata": {
    "hidden": true,
    "slideshow": {
     "slide_type": "fragment"
    }
   },
   "outputs": [],
   "source": [
    "type(data)"
   ]
  },
  {
   "cell_type": "code",
   "execution_count": null,
   "metadata": {
    "hidden": true,
    "slideshow": {
     "slide_type": "fragment"
    }
   },
   "outputs": [],
   "source": [
    "data.keys()"
   ]
  },
  {
   "cell_type": "markdown",
   "metadata": {
    "hidden": true,
    "slideshow": {
     "slide_type": "fragment"
    }
   },
   "source": [
    "In this case, there is only a single key, 'albums', so we'll continue on down the pathway exploring and mapping out the hierarchy. Once again, let's start by checking the type of this nested data structure."
   ]
  },
  {
   "cell_type": "code",
   "execution_count": null,
   "metadata": {
    "hidden": true,
    "slideshow": {
     "slide_type": "subslide"
    }
   },
   "outputs": [],
   "source": [
    "type(data['albums'])"
   ]
  },
  {
   "cell_type": "code",
   "execution_count": null,
   "metadata": {
    "hidden": true,
    "slideshow": {
     "slide_type": "fragment"
    }
   },
   "outputs": [],
   "source": [
    "data['albums'].keys()"
   ]
  },
  {
   "cell_type": "markdown",
   "metadata": {
    "hidden": true,
    "slideshow": {
     "slide_type": "slide"
    }
   },
   "source": [
    "At this point, things are starting to look something like this: \n",
    "\n",
    "![](images/json_diagram1.jpg)\n",
    "\n",
    "If we were to continue checking individual data types, we'd have a lot to go through. To simplify this, let's use a `for` loop:"
   ]
  },
  {
   "cell_type": "code",
   "execution_count": null,
   "metadata": {
    "hidden": true,
    "slideshow": {
     "slide_type": "fragment"
    }
   },
   "outputs": [],
   "source": [
    "for key, value in data['albums'].items():\n",
    "    print(key, type(value))"
   ]
  },
  {
   "cell_type": "markdown",
   "metadata": {
    "hidden": true,
    "slideshow": {
     "slide_type": "slide"
    }
   },
   "source": [
    "Adding this to our diagram, we now have something like this:\n",
    "\n",
    "![](images/json_diagram2.jpg)\n",
    "\n",
    "Let's look at the `items` list - this contains the album information. "
   ]
  },
  {
   "cell_type": "code",
   "execution_count": null,
   "metadata": {
    "hidden": true,
    "slideshow": {
     "slide_type": "fragment"
    }
   },
   "outputs": [],
   "source": [
    "type(data['albums']['items'])"
   ]
  },
  {
   "cell_type": "code",
   "execution_count": null,
   "metadata": {
    "hidden": true,
    "scrolled": true,
    "slideshow": {
     "slide_type": "slide"
    }
   },
   "outputs": [],
   "source": [
    "data['albums']['items'][0]['artists'][0]"
   ]
  },
  {
   "cell_type": "markdown",
   "metadata": {
    "hidden": true,
    "slideshow": {
     "slide_type": "slide"
    }
   },
   "source": [
    "We access values as we would for nested lists or dictionaries in Python."
   ]
  },
  {
   "cell_type": "code",
   "execution_count": null,
   "metadata": {
    "hidden": true,
    "slideshow": {
     "slide_type": "fragment"
    }
   },
   "outputs": [],
   "source": [
    "data['albums']['items'][0].keys()"
   ]
  },
  {
   "cell_type": "code",
   "execution_count": null,
   "metadata": {
    "hidden": true,
    "slideshow": {
     "slide_type": "fragment"
    }
   },
   "outputs": [],
   "source": [
    "data['albums']['items'][0]['artists'][0]['name']"
   ]
  },
  {
   "cell_type": "code",
   "execution_count": null,
   "metadata": {
    "hidden": true,
    "slideshow": {
     "slide_type": "fragment"
    }
   },
   "outputs": [],
   "source": [
    "data['albums']['items'][1]['artists'][0]['name']"
   ]
  },
  {
   "cell_type": "markdown",
   "metadata": {
    "heading_collapsed": true,
    "slideshow": {
     "slide_type": "slide"
    }
   },
   "source": [
    "# Loading in Plant Data"
   ]
  },
  {
   "cell_type": "markdown",
   "metadata": {
    "hidden": true,
    "slideshow": {
     "slide_type": "fragment"
    }
   },
   "source": [
    "Now that we have a handle on how to deal with data in JSON form, let's load in a new dataset and construct an analysis!\n",
    "This dataset was gathered with the [Trefle API](https://docs.trefle.io/). It contains information about 1000 plants in JSON form."
   ]
  },
  {
   "cell_type": "code",
   "execution_count": null,
   "metadata": {
    "hidden": true,
    "slideshow": {
     "slide_type": "fragment"
    }
   },
   "outputs": [],
   "source": [
    "with open('data/plants.json', 'r') as f:\n",
    "    plants = json.load(f)"
   ]
  },
  {
   "cell_type": "code",
   "execution_count": null,
   "metadata": {
    "slideshow": {
     "slide_type": "fragment"
    }
   },
   "outputs": [],
   "source": [
    "type(plants)"
   ]
  },
  {
   "cell_type": "code",
   "execution_count": null,
   "metadata": {
    "hidden": true,
    "slideshow": {
     "slide_type": "fragment"
    }
   },
   "outputs": [],
   "source": [
    "len(plants)"
   ]
  },
  {
   "cell_type": "markdown",
   "metadata": {
    "heading_collapsed": true,
    "hidden": true,
    "slideshow": {
     "slide_type": "slide"
    }
   },
   "source": [
    "## What Information Do We Have?"
   ]
  },
  {
   "cell_type": "markdown",
   "metadata": {
    "hidden": true,
    "slideshow": {
     "slide_type": "fragment"
    }
   },
   "source": [
    "Let's take a look at the first plant in our list to see what information is available."
   ]
  },
  {
   "cell_type": "code",
   "execution_count": null,
   "metadata": {
    "hidden": true,
    "scrolled": true,
    "slideshow": {
     "slide_type": "slide"
    }
   },
   "outputs": [],
   "source": [
    "plants[0]\n"
   ]
  },
  {
   "cell_type": "markdown",
   "metadata": {
    "hidden": true,
    "slideshow": {
     "slide_type": "fragment"
    }
   },
   "source": [
    "You can find more information about these fields [here](https://docs.trefle.io/docs/advanced/plants-fields)."
   ]
  },
  {
   "cell_type": "markdown",
   "metadata": {
    "heading_collapsed": true,
    "hidden": true,
    "slideshow": {
     "slide_type": "slide"
    }
   },
   "source": [
    "## Plant Families"
   ]
  },
  {
   "cell_type": "markdown",
   "metadata": {
    "hidden": true,
    "slideshow": {
     "slide_type": "fragment"
    }
   },
   "source": [
    "Let's start by seeing what botanical families are represented in our data. We'll build a dictionary that counts the plants by family. We'll use the common names for this purpose."
   ]
  },
  {
   "cell_type": "code",
   "execution_count": null,
   "metadata": {
    "hidden": true,
    "slideshow": {
     "slide_type": "fragment"
    }
   },
   "outputs": [],
   "source": [
    "plant_dict = defaultdict(int)\n",
    "for plant in plants:\n",
    "    plant_dict[plant['family_common_name']] += 1"
   ]
  },
  {
   "cell_type": "code",
   "execution_count": null,
   "metadata": {
    "slideshow": {
     "slide_type": "slide"
    }
   },
   "outputs": [],
   "source": [
    "plant_dict"
   ]
  },
  {
   "cell_type": "code",
   "execution_count": null,
   "metadata": {
    "hidden": true,
    "slideshow": {
     "slide_type": "slide"
    }
   },
   "outputs": [],
   "source": [
    "plant_dict['Beech family']"
   ]
  },
  {
   "cell_type": "markdown",
   "metadata": {
    "hidden": true,
    "slideshow": {
     "slide_type": "fragment"
    }
   },
   "source": [
    "Are there any missing values?"
   ]
  },
  {
   "cell_type": "code",
   "execution_count": null,
   "metadata": {
    "hidden": true,
    "slideshow": {
     "slide_type": "fragment"
    }
   },
   "outputs": [],
   "source": [
    "plant_dict[None]"
   ]
  },
  {
   "cell_type": "markdown",
   "metadata": {
    "hidden": true,
    "slideshow": {
     "slide_type": "fragment"
    }
   },
   "source": [
    "Let's remove these by using a dictionary comprehension:"
   ]
  },
  {
   "cell_type": "code",
   "execution_count": null,
   "metadata": {
    "hidden": true,
    "slideshow": {
     "slide_type": "fragment"
    }
   },
   "outputs": [],
   "source": [
    "fams_clean = {fam: num for fam, num in plant_dict.items() if fam != None}"
   ]
  },
  {
   "cell_type": "code",
   "execution_count": null,
   "metadata": {
    "hidden": true,
    "slideshow": {
     "slide_type": "fragment"
    }
   },
   "outputs": [],
   "source": [
    "fams_clean.get(None, 0)"
   ]
  },
  {
   "cell_type": "markdown",
   "metadata": {
    "hidden": true,
    "slideshow": {
     "slide_type": "slide"
    }
   },
   "source": [
    "Let's also remove the families whose counts are less than ten:"
   ]
  },
  {
   "cell_type": "code",
   "execution_count": null,
   "metadata": {
    "hidden": true,
    "slideshow": {
     "slide_type": "fragment"
    }
   },
   "outputs": [],
   "source": [
    "fams_clean = {fam: num for fam, num in fams_clean.items() if num >= 10}"
   ]
  },
  {
   "cell_type": "markdown",
   "metadata": {
    "hidden": true,
    "slideshow": {
     "slide_type": "slide"
    }
   },
   "source": [
    "Now we can make a bar chart of the numbers:"
   ]
  },
  {
   "cell_type": "code",
   "execution_count": null,
   "metadata": {
    "hidden": true,
    "slideshow": {
     "slide_type": "fragment"
    }
   },
   "outputs": [],
   "source": [
    "plt.style.use('seaborn')"
   ]
  },
  {
   "cell_type": "code",
   "execution_count": null,
   "metadata": {
    "hidden": true,
    "slideshow": {
     "slide_type": "slide"
    }
   },
   "outputs": [],
   "source": [
    "fig, ax = plt.subplots(figsize=(20, 12))\n",
    "\n",
    "ax.bar(x=list(fams_clean.keys()), height=list(fams_clean.values()))\n",
    "ax.set_title('Families by Number', fontsize=30)\n",
    "plt.xticks(rotation=80, fontsize=20)\n",
    "plt.yticks(fontsize=20);"
   ]
  },
  {
   "cell_type": "markdown",
   "metadata": {
    "heading_collapsed": true,
    "hidden": true,
    "slideshow": {
     "slide_type": "slide"
    }
   },
   "source": [
    "## Synonyms"
   ]
  },
  {
   "cell_type": "markdown",
   "metadata": {
    "hidden": true,
    "slideshow": {
     "slide_type": "fragment"
    }
   },
   "source": [
    "Suppose we wanted to know how many synonymous names were listed for each plant. We could grab this number with a list comprehension:"
   ]
  },
  {
   "cell_type": "code",
   "execution_count": null,
   "metadata": {
    "slideshow": {
     "slide_type": "fragment"
    }
   },
   "outputs": [],
   "source": [
    "plants[0]"
   ]
  },
  {
   "cell_type": "code",
   "execution_count": null,
   "metadata": {
    "hidden": true,
    "slideshow": {
     "slide_type": "slide"
    }
   },
   "outputs": [],
   "source": [
    "num_syn = [len(plant['synonyms']) for plant in plants]"
   ]
  },
  {
   "cell_type": "code",
   "execution_count": null,
   "metadata": {
    "hidden": true,
    "slideshow": {
     "slide_type": "fragment"
    }
   },
   "outputs": [],
   "source": [
    "fig, ax = plt.subplots(figsize=(8, 6))\n",
    "\n",
    "ax.scatter(range(1000), num_syn, alpha=0.8)\n",
    "ax.set_title('Numbers of Synonyms');"
   ]
  },
  {
   "cell_type": "markdown",
   "metadata": {
    "heading_collapsed": true,
    "hidden": true,
    "slideshow": {
     "slide_type": "slide"
    }
   },
   "source": [
    "## Exercise"
   ]
  },
  {
   "cell_type": "markdown",
   "metadata": {
    "heading_collapsed": true,
    "hidden": true,
    "slideshow": {
     "slide_type": "fragment"
    }
   },
   "source": [
    "One plant has nearly 350 synonynms! What plant is this?"
   ]
  },
  {
   "cell_type": "code",
   "execution_count": null,
   "metadata": {
    "slideshow": {
     "slide_type": "fragment"
    }
   },
   "outputs": [],
   "source": []
  },
  {
   "cell_type": "markdown",
   "metadata": {
    "heading_collapsed": true,
    "hidden": true,
    "slideshow": {
     "slide_type": "fragment"
    }
   },
   "source": [
    "<details>\n",
    "    <summary>\n",
    "        Answer\n",
    "    </summary>\n",
    "\n",
    "```python\n",
    "[plant for plant in plants if len(plant['synonyms']) > 300]\n",
    "```\n",
    "</details>"
   ]
  },
  {
   "cell_type": "markdown",
   "metadata": {
    "heading_collapsed": true,
    "hidden": true,
    "slideshow": {
     "slide_type": "slide"
    }
   },
   "source": [
    "## Bibliography"
   ]
  },
  {
   "cell_type": "code",
   "execution_count": null,
   "metadata": {
    "hidden": true,
    "slideshow": {
     "slide_type": "fragment"
    }
   },
   "outputs": [],
   "source": [
    "biblios = [plant['bibliography'] for plant in plants]"
   ]
  },
  {
   "cell_type": "code",
   "execution_count": null,
   "metadata": {
    "hidden": true,
    "slideshow": {
     "slide_type": "fragment"
    }
   },
   "outputs": [],
   "source": [
    "biblios[0]"
   ]
  },
  {
   "cell_type": "markdown",
   "metadata": {
    "hidden": true,
    "slideshow": {
     "slide_type": "fragment"
    }
   },
   "source": [
    "Let's check the bibliographies for any explicit mention of Linnaeus, the godfather of biological taxonomy. First we'll remove the plants with no bibliography:"
   ]
  },
  {
   "cell_type": "code",
   "execution_count": null,
   "metadata": {
    "hidden": true,
    "slideshow": {
     "slide_type": "fragment"
    }
   },
   "outputs": [],
   "source": [
    "hasbiblio = [plant for plant in plants if plant['bibliography'] != None]"
   ]
  },
  {
   "cell_type": "code",
   "execution_count": null,
   "metadata": {
    "cell_style": "center",
    "hidden": true,
    "slideshow": {
     "slide_type": "fragment"
    }
   },
   "outputs": [],
   "source": [
    "len(hasbiblio)"
   ]
  },
  {
   "cell_type": "code",
   "execution_count": null,
   "metadata": {
    "cell_style": "center",
    "hidden": true,
    "slideshow": {
     "slide_type": "slide"
    }
   },
   "outputs": [],
   "source": [
    "linnaeans = [plant['bibliography'] for plant in hasbiblio if 'Linnaeus'in plant['bibliography']]\n",
    "linnaeans"
   ]
  },
  {
   "cell_type": "markdown",
   "metadata": {
    "heading_collapsed": true,
    "slideshow": {
     "slide_type": "slide"
    }
   },
   "source": [
    "# Matching Author and Bibliography"
   ]
  },
  {
   "cell_type": "markdown",
   "metadata": {
    "hidden": true,
    "slideshow": {
     "slide_type": "fragment"
    }
   },
   "source": [
    "In fact, _Species Plantarum_ (1753) was written by Linnaeus, and \"Sp. Pl.\" In these bibliographies is a reference to that master work. Let's check to see who the author is for these records whose bibliographies start with \"Sp. Pl.\":"
   ]
  },
  {
   "cell_type": "code",
   "execution_count": null,
   "metadata": {
    "slideshow": {
     "slide_type": "fragment"
    }
   },
   "outputs": [],
   "source": [
    "sps = []\n",
    "for plant in hasbiblio:\n",
    "    if plant['bibliography'].startswith('Sp. Pl.'):\n",
    "            sps.append(plant)"
   ]
  },
  {
   "cell_type": "code",
   "execution_count": null,
   "metadata": {
    "cell_style": "center",
    "hidden": true,
    "slideshow": {
     "slide_type": "fragment"
    }
   },
   "outputs": [],
   "source": [
    "sp_authors = [sp['author'] for sp in sps]"
   ]
  },
  {
   "cell_type": "code",
   "execution_count": null,
   "metadata": {
    "cell_style": "center",
    "hidden": true,
    "slideshow": {
     "slide_type": "fragment"
    }
   },
   "outputs": [],
   "source": [
    "uniq_auth = list(set(sp_authors))"
   ]
  },
  {
   "cell_type": "code",
   "execution_count": null,
   "metadata": {
    "cell_style": "center",
    "hidden": true,
    "slideshow": {
     "slide_type": "slide"
    }
   },
   "outputs": [],
   "source": [
    "counts = []\n",
    "for author in uniq_auth:\n",
    "    counts.append(sp_authors.count(author))"
   ]
  },
  {
   "cell_type": "code",
   "execution_count": null,
   "metadata": {
    "cell_style": "center",
    "hidden": true,
    "slideshow": {
     "slide_type": "fragment"
    }
   },
   "outputs": [],
   "source": [
    "dict(zip(uniq_auth, counts))"
   ]
  },
  {
   "cell_type": "markdown",
   "metadata": {
    "heading_collapsed": true,
    "hidden": true,
    "slideshow": {
     "slide_type": "slide"
    }
   },
   "source": [
    "## Exercise"
   ]
  },
  {
   "cell_type": "markdown",
   "metadata": {
    "hidden": true,
    "slideshow": {
     "slide_type": "fragment"
    }
   },
   "source": [
    "Change the author to 'L.' (for 'Linnaeus') for all of these records."
   ]
  },
  {
   "cell_type": "code",
   "execution_count": null,
   "metadata": {},
   "outputs": [],
   "source": []
  },
  {
   "cell_type": "markdown",
   "metadata": {
    "hidden": true,
    "slideshow": {
     "slide_type": "fragment"
    }
   },
   "source": [
    "<details>\n",
    "    <summary>\n",
    "        Answer\n",
    "    </summary>\n",
    "\n",
    "```python\n",
    "for plant in plants:\n",
    "    try:\n",
    "        if plant['bibliography'].startswith('Sp. Pl.'):\n",
    "            plant['author'] = 'L.'\n",
    "    except:\n",
    "        continue\n",
    "    \n",
    "    \n",
    "or\n",
    "    \n",
    "    \n",
    "for plant in plants:\n",
    "    if plant['bibliography'] != None and plant['bibliography'].startswith('Sp. Pl.'):\n",
    "            plant['author'] = 'L.'    \n",
    "```\n",
    "</details>"
   ]
  },
  {
   "cell_type": "markdown",
   "metadata": {
    "heading_collapsed": true,
    "slideshow": {
     "slide_type": "slide"
    }
   },
   "source": [
    "# Teaser: Bringing in `pandas`: Back to Synonyms"
   ]
  },
  {
   "cell_type": "markdown",
   "metadata": {
    "hidden": true,
    "slideshow": {
     "slide_type": "fragment"
    }
   },
   "source": [
    "Let's take advantage of the DataFrame tools from `pandas`:"
   ]
  },
  {
   "cell_type": "code",
   "execution_count": null,
   "metadata": {
    "hidden": true,
    "slideshow": {
     "slide_type": "fragment"
    }
   },
   "outputs": [],
   "source": [
    "plants_df = pd.DataFrame(plants)"
   ]
  },
  {
   "cell_type": "code",
   "execution_count": null,
   "metadata": {
    "hidden": true,
    "slideshow": {
     "slide_type": "slide"
    }
   },
   "outputs": [],
   "source": [
    "plants_df.head()"
   ]
  },
  {
   "cell_type": "markdown",
   "metadata": {
    "heading_collapsed": true,
    "hidden": true,
    "slideshow": {
     "slide_type": "slide"
    }
   },
   "source": [
    "## Exercises for Later"
   ]
  },
  {
   "cell_type": "markdown",
   "metadata": {
    "hidden": true,
    "slideshow": {
     "slide_type": "fragment"
    }
   },
   "source": [
    "1. Add the number of synonyms as a new column called \"num_syn\".\n",
    "2. Sort the DataFrame by number of synonyms in descending order.\n",
    "3. Grab the Image URL of the plant that has the fourth-highest number of synonyms.\n",
    "4. Paste it into your browser and take a look!"
   ]
  },
  {
   "cell_type": "code",
   "execution_count": null,
   "metadata": {},
   "outputs": [],
   "source": []
  },
  {
   "cell_type": "markdown",
   "metadata": {
    "hidden": true
   },
   "source": [
    "<details>\n",
    "    <summary>Answer here\n",
    "    </summary>\n",
    "\n",
    "```python\n",
    "plants_df['num_syn'] = plants_df['synonyms'].map(len)\n",
    "sorted_ = plants_df.sort_values('num_syn', ascending=False)\n",
    "sorted_.loc[3, 'image_url']\n",
    "```\n",
    "</details>"
   ]
  },
  {
   "cell_type": "markdown",
   "metadata": {
    "heading_collapsed": true,
    "slideshow": {
     "slide_type": "slide"
    }
   },
   "source": [
    "# Year"
   ]
  },
  {
   "cell_type": "markdown",
   "metadata": {
    "hidden": true,
    "slideshow": {
     "slide_type": "fragment"
    }
   },
   "source": [
    "The year is an indication of when a valid name for the plant first appeared in print. Let's build a simple histogram of these years:"
   ]
  },
  {
   "cell_type": "code",
   "execution_count": null,
   "metadata": {
    "hidden": true,
    "scrolled": true,
    "slideshow": {
     "slide_type": "fragment"
    }
   },
   "outputs": [],
   "source": []
  },
  {
   "cell_type": "markdown",
   "metadata": {
    "heading_collapsed": true,
    "hidden": true,
    "slideshow": {
     "slide_type": "slide"
    }
   },
   "source": [
    "## Exercise"
   ]
  },
  {
   "cell_type": "markdown",
   "metadata": {
    "hidden": true,
    "slideshow": {
     "slide_type": "fragment"
    }
   },
   "source": [
    "How many plants have first been written about just in the last 20 years? Make a bar chart or pie chart that shows the distribution by family of these plants."
   ]
  },
  {
   "cell_type": "code",
   "execution_count": null,
   "metadata": {
    "slideshow": {
     "slide_type": "fragment"
    }
   },
   "outputs": [],
   "source": []
  },
  {
   "cell_type": "markdown",
   "metadata": {
    "hidden": true,
    "slideshow": {
     "slide_type": "fragment"
    }
   },
   "source": [
    "<details>\n",
    "    <summary>\n",
    "        One answer here\n",
    "    </summary>\n",
    "\n",
    "```python\n",
    "recent = plants_df[plants_df['year'] >= 2001]\n",
    "fig, ax = plt.subplots(1, 2, figsize=(14, 6))\n",
    "ax[0].bar(recent['family_common_name'].value_counts().index,\n",
    "       recent['family_common_name'].value_counts(),\n",
    "      color='darkgreen')\n",
    "ax[1].pie(recent['family_common_name'].value_counts(),\n",
    "      labels=recent['family_common_name'].value_counts().index,\n",
    "      radius=1.2, labeldistance=0.4, rotatelabels=True);\n",
    "```    \n",
    "</details>"
   ]
  },
  {
   "cell_type": "code",
   "execution_count": null,
   "metadata": {
    "hidden": true
   },
   "outputs": [],
   "source": []
  },
  {
   "cell_type": "code",
   "execution_count": null,
   "metadata": {},
   "outputs": [],
   "source": []
  },
  {
   "cell_type": "code",
   "execution_count": null,
   "metadata": {},
   "outputs": [],
   "source": []
  }
 ],
 "metadata": {
  "kernelspec": {
   "display_name": "Training Wheels",
   "language": "python",
   "name": "training_wheels"
  },
  "language_info": {
   "codemirror_mode": {
    "name": "ipython",
    "version": 3
   },
   "file_extension": ".py",
   "mimetype": "text/x-python",
   "name": "python",
   "nbconvert_exporter": "python",
   "pygments_lexer": "ipython3",
   "version": "3.11.3"
  },
  "toc": {
   "base_numbering": 1,
   "nav_menu": {},
   "number_sections": true,
   "sideBar": true,
   "skip_h1_title": false,
   "title_cell": "Table of Contents",
   "title_sidebar": "TOC",
   "toc_cell": true,
   "toc_position": {
    "height": "calc(100% - 180px)",
    "left": "10px",
    "top": "150px",
    "width": "288px"
   },
   "toc_section_display": true,
   "toc_window_display": true
  }
 },
 "nbformat": 4,
 "nbformat_minor": 4
}
